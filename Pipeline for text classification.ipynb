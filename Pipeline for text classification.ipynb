{
 "cells": [
  {
   "cell_type": "markdown",
   "metadata": {},
   "source": [
    "# Movie Reviews Classification in Pyhton"
   ]
  },
  {
   "cell_type": "markdown",
   "metadata": {},
   "source": [
    "### 1.Load the Data"
   ]
  },
  {
   "cell_type": "code",
   "execution_count": 182,
   "metadata": {},
   "outputs": [],
   "source": [
    "from sklearn.datasets import load_files\n",
    "\n",
    "# for reproducibility\n",
    "random_state = 42\n",
    "\n",
    "DATA_DIR = \"./Movie_Reviews/Sample_train\" # adress of the folder contains positive and negative folder of reviews\n",
    "train_data = load_files(DATA_DIR, encoding=\"utf-8\", decode_error=\"replace\", random_state=random_state)"
   ]
  },
  {
   "cell_type": "code",
   "execution_count": 183,
   "metadata": {},
   "outputs": [
    {
     "name": "stdout",
     "output_type": "stream",
     "text": [
      "we have 5002 reviews in our dataset\n"
     ]
    },
    {
     "data": {
      "text/html": [
       "<div>\n",
       "<style scoped>\n",
       "    .dataframe tbody tr th:only-of-type {\n",
       "        vertical-align: middle;\n",
       "    }\n",
       "\n",
       "    .dataframe tbody tr th {\n",
       "        vertical-align: top;\n",
       "    }\n",
       "\n",
       "    .dataframe thead th {\n",
       "        text-align: right;\n",
       "    }\n",
       "</style>\n",
       "<table border=\"1\" class=\"dataframe\">\n",
       "  <thead>\n",
       "    <tr style=\"text-align: right;\">\n",
       "      <th></th>\n",
       "      <th>text</th>\n",
       "      <th>label</th>\n",
       "    </tr>\n",
       "  </thead>\n",
       "  <tbody>\n",
       "    <tr>\n",
       "      <th>0</th>\n",
       "      <td>Excellent political thriller, played much quieter and slower than other, higher ranking films in this genre. When people talk about Pacino and Cusack how do they manage to skip over these amazing...</td>\n",
       "      <td>1</td>\n",
       "    </tr>\n",
       "    <tr>\n",
       "      <th>1</th>\n",
       "      <td>This is really a great unknown movie.Perfect dialogue without the typical clichés.This movie relied on the actor's talent and it was pulled off.It even had a little bit a comedy in it,but it wasn...</td>\n",
       "      <td>1</td>\n",
       "    </tr>\n",
       "    <tr>\n",
       "      <th>2</th>\n",
       "      <td>To me, the final scene, in which Harris responds to the press corp, is worthy of viewing this intelligent and timeless slice of politics(especially the campaign phase). If only the \"real-life\" po...</td>\n",
       "      <td>1</td>\n",
       "    </tr>\n",
       "    <tr>\n",
       "      <th>3</th>\n",
       "      <td>Sisters in law will be released theatrically on march 24th in Sweden. A good occasion for our Nordic friends to discover this original and thoughtful documentary. It was shown in Göteborg togethe...</td>\n",
       "      <td>1</td>\n",
       "    </tr>\n",
       "    <tr>\n",
       "      <th>4</th>\n",
       "      <td>This movie was crap with a capital \"C.\" The opening scene showed promise. But that \"promise\" was broken shortly after the viewer learns where the plot is going.&lt;br /&gt;&lt;br /&gt;And the wooden statue, ...</td>\n",
       "      <td>0</td>\n",
       "    </tr>\n",
       "    <tr>\n",
       "      <th>5</th>\n",
       "      <td>Slow and riddled with inaccuracy. Over-looking its flaws this is still an interesting account of the famed and heroic siege of the Alamo during the Texas fight for independence from Mexico. James...</td>\n",
       "      <td>0</td>\n",
       "    </tr>\n",
       "    <tr>\n",
       "      <th>6</th>\n",
       "      <td>SWING! is an important film because it's one of the remaining Black-produced and acted films from the 1930s. Many of these films have simply deteriorated so badly that they are unwatchable, but t...</td>\n",
       "      <td>0</td>\n",
       "    </tr>\n",
       "    <tr>\n",
       "      <th>7</th>\n",
       "      <td>Not only is this movie a great film for basic cinematography (screenplay, acting, setting, etc.) but also for it's realism. This movie could take place in any farm or rural setting. It makes no d...</td>\n",
       "      <td>1</td>\n",
       "    </tr>\n",
       "    <tr>\n",
       "      <th>8</th>\n",
       "      <td>I've just finished listening to the director's commentary for this film, and I think the one big thing I got from it that I agree with is that this film, like Mann's The Insider, is completely su...</td>\n",
       "      <td>1</td>\n",
       "    </tr>\n",
       "    <tr>\n",
       "      <th>9</th>\n",
       "      <td>This film is, in short, a cinematic masterpiece. The film is moved along brilliantly by intense images that deeply move the sensitive viewer. The film opens during the Spanish Civil War as a grou...</td>\n",
       "      <td>1</td>\n",
       "    </tr>\n",
       "  </tbody>\n",
       "</table>\n",
       "</div>"
      ],
      "text/plain": [
       "                                                                                                                                                                                                     text  \\\n",
       "0  Excellent political thriller, played much quieter and slower than other, higher ranking films in this genre. When people talk about Pacino and Cusack how do they manage to skip over these amazing...   \n",
       "1  This is really a great unknown movie.Perfect dialogue without the typical clichés.This movie relied on the actor's talent and it was pulled off.It even had a little bit a comedy in it,but it wasn...   \n",
       "2  To me, the final scene, in which Harris responds to the press corp, is worthy of viewing this intelligent and timeless slice of politics(especially the campaign phase). If only the \"real-life\" po...   \n",
       "3  Sisters in law will be released theatrically on march 24th in Sweden. A good occasion for our Nordic friends to discover this original and thoughtful documentary. It was shown in Göteborg togethe...   \n",
       "4  This movie was crap with a capital \"C.\" The opening scene showed promise. But that \"promise\" was broken shortly after the viewer learns where the plot is going.<br /><br />And the wooden statue, ...   \n",
       "5  Slow and riddled with inaccuracy. Over-looking its flaws this is still an interesting account of the famed and heroic siege of the Alamo during the Texas fight for independence from Mexico. James...   \n",
       "6  SWING! is an important film because it's one of the remaining Black-produced and acted films from the 1930s. Many of these films have simply deteriorated so badly that they are unwatchable, but t...   \n",
       "7  Not only is this movie a great film for basic cinematography (screenplay, acting, setting, etc.) but also for it's realism. This movie could take place in any farm or rural setting. It makes no d...   \n",
       "8  I've just finished listening to the director's commentary for this film, and I think the one big thing I got from it that I agree with is that this film, like Mann's The Insider, is completely su...   \n",
       "9  This film is, in short, a cinematic masterpiece. The film is moved along brilliantly by intense images that deeply move the sensitive viewer. The film opens during the Spanish Civil War as a grou...   \n",
       "\n",
       "   label  \n",
       "0      1  \n",
       "1      1  \n",
       "2      1  \n",
       "3      1  \n",
       "4      0  \n",
       "5      0  \n",
       "6      0  \n",
       "7      1  \n",
       "8      1  \n",
       "9      1  "
      ]
     },
     "execution_count": 183,
     "metadata": {},
     "output_type": "execute_result"
    }
   ],
   "source": [
    "import pandas as pd\n",
    "\n",
    "df_corpus = pd.DataFrame(list(zip(train_data['data'], train_data['target'])), columns=['text', 'label'])\n",
    "print(f\"we have {len(df_corpus)} reviews in our dataset\")\n",
    "df_corpus.head(10)"
   ]
  },
  {
   "cell_type": "code",
   "execution_count": 184,
   "metadata": {},
   "outputs": [
    {
     "name": "stdout",
     "output_type": "stream",
     "text": [
      "Positive: 4001\n",
      "Nagetaive: 1001\n"
     ]
    }
   ],
   "source": [
    "print(f\"Positive: {len(df_corpus[ df_corpus.label == 1])}\\nNagetaive: {len(df_corpus[ df_corpus.label == 0])}\")"
   ]
  },
  {
   "cell_type": "code",
   "execution_count": 185,
   "metadata": {},
   "outputs": [
    {
     "name": "stdout",
     "output_type": "stream",
     "text": [
      "Total number of words in vocabulary before cleaning is : 97084\n"
     ]
    },
    {
     "data": {
      "text/plain": [
       "[('the', 58208),\n",
       " ('and', 32424),\n",
       " ('a', 31193),\n",
       " ('of', 29328),\n",
       " ('to', 26266),\n",
       " ('is', 21456),\n",
       " ('in', 17976),\n",
       " ('I', 12982),\n",
       " ('that', 12659),\n",
       " ('this', 10925),\n",
       " ('it', 10700),\n",
       " ('/><br', 10156),\n",
       " ('as', 9151),\n",
       " ('was', 8895),\n",
       " ('with', 8513),\n",
       " ('for', 8454),\n",
       " ('The', 6573),\n",
       " ('but', 6496),\n",
       " ('his', 6084),\n",
       " ('on', 6074)]"
      ]
     },
     "execution_count": 185,
     "metadata": {},
     "output_type": "execute_result"
    }
   ],
   "source": [
    "from collections import Counter\n",
    "\n",
    "vocab = Counter()\n",
    "for s in df_corpus.text:\n",
    "   vocab.update(s.split())\n",
    "\n",
    "print(f\"Total number of words in vocabulary before cleaning is : {len(vocab)}\")\n",
    "vocab.most_common(20)"
   ]
  },
  {
   "cell_type": "markdown",
   "metadata": {},
   "source": [
    "### 2.Clean the data\n",
    "- JUST FOR ILUSTRATION"
   ]
  },
  {
   "cell_type": "code",
   "execution_count": 186,
   "metadata": {},
   "outputs": [],
   "source": [
    "from nltk.corpus import stopwords\n",
    "from nltk.tokenize import word_tokenize\n",
    "import string\n",
    "from nltk.stem import PorterStemmer\n",
    "from nltk.tokenize import sent_tokenize, word_tokenize\n",
    "\n",
    "def cleanText(text):\n",
    "    for c in string.punctuation:\n",
    "        text = text.replace(c,\" \")\n",
    "    text = text.replace('“','')\n",
    "    text = text.replace('”','')\n",
    "    text = text.replace('’','')\n",
    "    text = text.replace('—',' ')\n",
    "    # Remove numbers\n",
    "    for c in range(10):\n",
    "        n = str(c)\n",
    "        text = text.replace(n,\" \")\n",
    "        \n",
    "    # To lower\n",
    "    text = text.lower()\n",
    "    \n",
    "    # Rempove stop words, then stemming and stripping\n",
    "    stop_words = set(stopwords.words('english'))\n",
    "    words = word_tokenize(text)\n",
    "    h2 = ''\n",
    "    for w in words:\n",
    "        if w not in stop_words: \n",
    "            h2 = h2 + ' ' + PorterStemmer().stem(w).strip()\n",
    "    text = h2\n",
    "\n",
    "    return text"
   ]
  },
  {
   "cell_type": "code",
   "execution_count": 187,
   "metadata": {},
   "outputs": [
    {
     "data": {
      "text/html": [
       "<div>\n",
       "<style scoped>\n",
       "    .dataframe tbody tr th:only-of-type {\n",
       "        vertical-align: middle;\n",
       "    }\n",
       "\n",
       "    .dataframe tbody tr th {\n",
       "        vertical-align: top;\n",
       "    }\n",
       "\n",
       "    .dataframe thead th {\n",
       "        text-align: right;\n",
       "    }\n",
       "</style>\n",
       "<table border=\"1\" class=\"dataframe\">\n",
       "  <thead>\n",
       "    <tr style=\"text-align: right;\">\n",
       "      <th></th>\n",
       "      <th>text</th>\n",
       "      <th>label</th>\n",
       "      <th>text_cleaned</th>\n",
       "    </tr>\n",
       "  </thead>\n",
       "  <tbody>\n",
       "    <tr>\n",
       "      <th>0</th>\n",
       "      <td>Excellent political thriller, played much quieter and slower than other, higher ranking films in this genre. When people talk about Pacino and Cusack how do they manage to skip over these amazing...</td>\n",
       "      <td>1</td>\n",
       "      <td>excel polit thriller play much quieter slower higher rank film genr peopl talk pacino cusack manag skip amaz career top perform stori friendship father son relationship corrupt deceit two actor ...</td>\n",
       "    </tr>\n",
       "    <tr>\n",
       "      <th>1</th>\n",
       "      <td>This is really a great unknown movie.Perfect dialogue without the typical clichés.This movie relied on the actor's talent and it was pulled off.It even had a little bit a comedy in it,but it wasn...</td>\n",
       "      <td>1</td>\n",
       "      <td>realli great unknown movi perfect dialogu without typic cliché movi reli actor talent pull even littl bit comedi overdon life crime drama suppos typic special affect garbag sex thrown especi lov...</td>\n",
       "    </tr>\n",
       "    <tr>\n",
       "      <th>2</th>\n",
       "      <td>To me, the final scene, in which Harris responds to the press corp, is worthy of viewing this intelligent and timeless slice of politics(especially the campaign phase). If only the \"real-life\" po...</td>\n",
       "      <td>1</td>\n",
       "      <td>final scene harri respond press corp worthi view intellig timeless slice polit especi campaign phase real life pol would respond intellig articul manner mr harri arrog self serv member press wou...</td>\n",
       "    </tr>\n",
       "    <tr>\n",
       "      <th>3</th>\n",
       "      <td>Sisters in law will be released theatrically on march 24th in Sweden. A good occasion for our Nordic friends to discover this original and thoughtful documentary. It was shown in Göteborg togethe...</td>\n",
       "      <td>1</td>\n",
       "      <td>sister law releas theatric march th sweden good occas nordic friend discov origin thought documentari shown göteborg togeth retrospect dedic kim longinotto director focu festiv gave master class...</td>\n",
       "    </tr>\n",
       "    <tr>\n",
       "      <th>4</th>\n",
       "      <td>This movie was crap with a capital \"C.\" The opening scene showed promise. But that \"promise\" was broken shortly after the viewer learns where the plot is going.&lt;br /&gt;&lt;br /&gt;And the wooden statue, ...</td>\n",
       "      <td>0</td>\n",
       "      <td>movi crap capit c open scene show promis promis broken shortli viewer learn plot go br br wooden statu morti rather creepi origin film look plain goofi one obvious guy cheap plastic costum way e...</td>\n",
       "    </tr>\n",
       "    <tr>\n",
       "      <th>...</th>\n",
       "      <td>...</td>\n",
       "      <td>...</td>\n",
       "      <td>...</td>\n",
       "    </tr>\n",
       "    <tr>\n",
       "      <th>4997</th>\n",
       "      <td>This is a poem on film, wonderfully presented and photographed with sensitive artistry. It captures the atmosphere of the time and place perfectly. (Italy's lake district in the twenties.) It's a...</td>\n",
       "      <td>1</td>\n",
       "      <td>poem film wonder present photograph sensit artistri captur atmospher time place perfectli itali lake district twenti love stori twist charact uniqu believ set delici exot scene funer boat fog hi...</td>\n",
       "    </tr>\n",
       "    <tr>\n",
       "      <th>4998</th>\n",
       "      <td>At least with the teenage geek gets the girl films, the guy is usually unpopular with girls. In the 40 Year Old Virgin he is replaced with a 40 year old guy who is popular with women but somehow ...</td>\n",
       "      <td>0</td>\n",
       "      <td>least teenag geek get girl film guy usual unpopular girl year old virgin replac year old guy popular women somehow remain virgin suppos engag brain film miss bit comatos year br br one seri film...</td>\n",
       "    </tr>\n",
       "    <tr>\n",
       "      <th>4999</th>\n",
       "      <td>\"Cinderella\" is a film about a young girl whose mother passed away and her father remarried. Once her father died, Cinderella's stepmother became very mean to her and made her do all of the chore...</td>\n",
       "      <td>1</td>\n",
       "      <td>cinderella film young girl whose mother pass away father remarri father die cinderella stepmoth becam mean made chore around hous like clean two evil stepsist one day king sent messag singl wome...</td>\n",
       "    </tr>\n",
       "    <tr>\n",
       "      <th>5000</th>\n",
       "      <td>This film captures the true struggle with identity that is ongoing in our teenage years. It is really moving and it feels strangely like a documentary-not contrived but very real. It is very inte...</td>\n",
       "      <td>1</td>\n",
       "      <td>film captur true struggl ident ongo teenag year realli move feel strang like documentari contriv real interest unsettl</td>\n",
       "    </tr>\n",
       "    <tr>\n",
       "      <th>5001</th>\n",
       "      <td>Long, boring, blasphemous. Never have I been so glad to see ending credits roll.</td>\n",
       "      <td>0</td>\n",
       "      <td>long bore blasphem never glad see end credit roll</td>\n",
       "    </tr>\n",
       "  </tbody>\n",
       "</table>\n",
       "<p>5002 rows × 3 columns</p>\n",
       "</div>"
      ],
      "text/plain": [
       "                                                                                                                                                                                                        text  \\\n",
       "0     Excellent political thriller, played much quieter and slower than other, higher ranking films in this genre. When people talk about Pacino and Cusack how do they manage to skip over these amazing...   \n",
       "1     This is really a great unknown movie.Perfect dialogue without the typical clichés.This movie relied on the actor's talent and it was pulled off.It even had a little bit a comedy in it,but it wasn...   \n",
       "2     To me, the final scene, in which Harris responds to the press corp, is worthy of viewing this intelligent and timeless slice of politics(especially the campaign phase). If only the \"real-life\" po...   \n",
       "3     Sisters in law will be released theatrically on march 24th in Sweden. A good occasion for our Nordic friends to discover this original and thoughtful documentary. It was shown in Göteborg togethe...   \n",
       "4     This movie was crap with a capital \"C.\" The opening scene showed promise. But that \"promise\" was broken shortly after the viewer learns where the plot is going.<br /><br />And the wooden statue, ...   \n",
       "...                                                                                                                                                                                                      ...   \n",
       "4997  This is a poem on film, wonderfully presented and photographed with sensitive artistry. It captures the atmosphere of the time and place perfectly. (Italy's lake district in the twenties.) It's a...   \n",
       "4998  At least with the teenage geek gets the girl films, the guy is usually unpopular with girls. In the 40 Year Old Virgin he is replaced with a 40 year old guy who is popular with women but somehow ...   \n",
       "4999  \"Cinderella\" is a film about a young girl whose mother passed away and her father remarried. Once her father died, Cinderella's stepmother became very mean to her and made her do all of the chore...   \n",
       "5000  This film captures the true struggle with identity that is ongoing in our teenage years. It is really moving and it feels strangely like a documentary-not contrived but very real. It is very inte...   \n",
       "5001                                                                                                                        Long, boring, blasphemous. Never have I been so glad to see ending credits roll.   \n",
       "\n",
       "      label  \\\n",
       "0         1   \n",
       "1         1   \n",
       "2         1   \n",
       "3         1   \n",
       "4         0   \n",
       "...     ...   \n",
       "4997      1   \n",
       "4998      0   \n",
       "4999      1   \n",
       "5000      1   \n",
       "5001      0   \n",
       "\n",
       "                                                                                                                                                                                                text_cleaned  \n",
       "0      excel polit thriller play much quieter slower higher rank film genr peopl talk pacino cusack manag skip amaz career top perform stori friendship father son relationship corrupt deceit two actor ...  \n",
       "1      realli great unknown movi perfect dialogu without typic cliché movi reli actor talent pull even littl bit comedi overdon life crime drama suppos typic special affect garbag sex thrown especi lov...  \n",
       "2      final scene harri respond press corp worthi view intellig timeless slice polit especi campaign phase real life pol would respond intellig articul manner mr harri arrog self serv member press wou...  \n",
       "3      sister law releas theatric march th sweden good occas nordic friend discov origin thought documentari shown göteborg togeth retrospect dedic kim longinotto director focu festiv gave master class...  \n",
       "4      movi crap capit c open scene show promis promis broken shortli viewer learn plot go br br wooden statu morti rather creepi origin film look plain goofi one obvious guy cheap plastic costum way e...  \n",
       "...                                                                                                                                                                                                      ...  \n",
       "4997   poem film wonder present photograph sensit artistri captur atmospher time place perfectli itali lake district twenti love stori twist charact uniqu believ set delici exot scene funer boat fog hi...  \n",
       "4998   least teenag geek get girl film guy usual unpopular girl year old virgin replac year old guy popular women somehow remain virgin suppos engag brain film miss bit comatos year br br one seri film...  \n",
       "4999   cinderella film young girl whose mother pass away father remarri father die cinderella stepmoth becam mean made chore around hous like clean two evil stepsist one day king sent messag singl wome...  \n",
       "5000                                                                                  film captur true struggl ident ongo teenag year realli move feel strang like documentari contriv real interest unsettl  \n",
       "5001                                                                                                                                                       long bore blasphem never glad see end credit roll  \n",
       "\n",
       "[5002 rows x 3 columns]"
      ]
     },
     "execution_count": 187,
     "metadata": {},
     "output_type": "execute_result"
    }
   ],
   "source": [
    "# Apply the cleanText function to each row of text column\n",
    "df_corpus['text_cleaned'] = df_corpus['text'].apply(cleanText)\n",
    "df_corpus\n",
    "# Compare the original text vs the cleaned text"
   ]
  },
  {
   "cell_type": "code",
   "execution_count": 188,
   "metadata": {},
   "outputs": [
    {
     "data": {
      "text/html": [
       "<div>\n",
       "<style scoped>\n",
       "    .dataframe tbody tr th:only-of-type {\n",
       "        vertical-align: middle;\n",
       "    }\n",
       "\n",
       "    .dataframe tbody tr th {\n",
       "        vertical-align: top;\n",
       "    }\n",
       "\n",
       "    .dataframe thead th {\n",
       "        text-align: right;\n",
       "    }\n",
       "</style>\n",
       "<table border=\"1\" class=\"dataframe\">\n",
       "  <thead>\n",
       "    <tr style=\"text-align: right;\">\n",
       "      <th></th>\n",
       "      <th>label</th>\n",
       "      <th>text</th>\n",
       "    </tr>\n",
       "  </thead>\n",
       "  <tbody>\n",
       "    <tr>\n",
       "      <th>0</th>\n",
       "      <td>1</td>\n",
       "      <td>excel polit thriller play much quieter slower higher rank film genr peopl talk pacino cusack manag skip amaz career top perform stori friendship father son relationship corrupt deceit two actor ...</td>\n",
       "    </tr>\n",
       "    <tr>\n",
       "      <th>1</th>\n",
       "      <td>1</td>\n",
       "      <td>realli great unknown movi perfect dialogu without typic cliché movi reli actor talent pull even littl bit comedi overdon life crime drama suppos typic special affect garbag sex thrown especi lov...</td>\n",
       "    </tr>\n",
       "    <tr>\n",
       "      <th>2</th>\n",
       "      <td>1</td>\n",
       "      <td>final scene harri respond press corp worthi view intellig timeless slice polit especi campaign phase real life pol would respond intellig articul manner mr harri arrog self serv member press wou...</td>\n",
       "    </tr>\n",
       "    <tr>\n",
       "      <th>3</th>\n",
       "      <td>1</td>\n",
       "      <td>sister law releas theatric march th sweden good occas nordic friend discov origin thought documentari shown göteborg togeth retrospect dedic kim longinotto director focu festiv gave master class...</td>\n",
       "    </tr>\n",
       "    <tr>\n",
       "      <th>4</th>\n",
       "      <td>0</td>\n",
       "      <td>movi crap capit c open scene show promis promis broken shortli viewer learn plot go br br wooden statu morti rather creepi origin film look plain goofi one obvious guy cheap plastic costum way e...</td>\n",
       "    </tr>\n",
       "    <tr>\n",
       "      <th>...</th>\n",
       "      <td>...</td>\n",
       "      <td>...</td>\n",
       "    </tr>\n",
       "    <tr>\n",
       "      <th>4997</th>\n",
       "      <td>1</td>\n",
       "      <td>poem film wonder present photograph sensit artistri captur atmospher time place perfectli itali lake district twenti love stori twist charact uniqu believ set delici exot scene funer boat fog hi...</td>\n",
       "    </tr>\n",
       "    <tr>\n",
       "      <th>4998</th>\n",
       "      <td>0</td>\n",
       "      <td>least teenag geek get girl film guy usual unpopular girl year old virgin replac year old guy popular women somehow remain virgin suppos engag brain film miss bit comatos year br br one seri film...</td>\n",
       "    </tr>\n",
       "    <tr>\n",
       "      <th>4999</th>\n",
       "      <td>1</td>\n",
       "      <td>cinderella film young girl whose mother pass away father remarri father die cinderella stepmoth becam mean made chore around hous like clean two evil stepsist one day king sent messag singl wome...</td>\n",
       "    </tr>\n",
       "    <tr>\n",
       "      <th>5000</th>\n",
       "      <td>1</td>\n",
       "      <td>film captur true struggl ident ongo teenag year realli move feel strang like documentari contriv real interest unsettl</td>\n",
       "    </tr>\n",
       "    <tr>\n",
       "      <th>5001</th>\n",
       "      <td>0</td>\n",
       "      <td>long bore blasphem never glad see end credit roll</td>\n",
       "    </tr>\n",
       "  </tbody>\n",
       "</table>\n",
       "<p>5002 rows × 2 columns</p>\n",
       "</div>"
      ],
      "text/plain": [
       "      label  \\\n",
       "0         1   \n",
       "1         1   \n",
       "2         1   \n",
       "3         1   \n",
       "4         0   \n",
       "...     ...   \n",
       "4997      1   \n",
       "4998      0   \n",
       "4999      1   \n",
       "5000      1   \n",
       "5001      0   \n",
       "\n",
       "                                                                                                                                                                                                        text  \n",
       "0      excel polit thriller play much quieter slower higher rank film genr peopl talk pacino cusack manag skip amaz career top perform stori friendship father son relationship corrupt deceit two actor ...  \n",
       "1      realli great unknown movi perfect dialogu without typic cliché movi reli actor talent pull even littl bit comedi overdon life crime drama suppos typic special affect garbag sex thrown especi lov...  \n",
       "2      final scene harri respond press corp worthi view intellig timeless slice polit especi campaign phase real life pol would respond intellig articul manner mr harri arrog self serv member press wou...  \n",
       "3      sister law releas theatric march th sweden good occas nordic friend discov origin thought documentari shown göteborg togeth retrospect dedic kim longinotto director focu festiv gave master class...  \n",
       "4      movi crap capit c open scene show promis promis broken shortli viewer learn plot go br br wooden statu morti rather creepi origin film look plain goofi one obvious guy cheap plastic costum way e...  \n",
       "...                                                                                                                                                                                                      ...  \n",
       "4997   poem film wonder present photograph sensit artistri captur atmospher time place perfectli itali lake district twenti love stori twist charact uniqu believ set delici exot scene funer boat fog hi...  \n",
       "4998   least teenag geek get girl film guy usual unpopular girl year old virgin replac year old guy popular women somehow remain virgin suppos engag brain film miss bit comatos year br br one seri film...  \n",
       "4999   cinderella film young girl whose mother pass away father remarri father die cinderella stepmoth becam mean made chore around hous like clean two evil stepsist one day king sent messag singl wome...  \n",
       "5000                                                                                  film captur true struggl ident ongo teenag year realli move feel strang like documentari contriv real interest unsettl  \n",
       "5001                                                                                                                                                       long bore blasphem never glad see end credit roll  \n",
       "\n",
       "[5002 rows x 2 columns]"
      ]
     },
     "execution_count": 188,
     "metadata": {},
     "output_type": "execute_result"
    }
   ],
   "source": [
    "df_cleaned = df_corpus.drop(columns = ['text'])\n",
    "df_cleaned.rename(columns = {'text_cleaned': 'text'}, inplace=True)\n",
    "df_cleaned"
   ]
  },
  {
   "cell_type": "markdown",
   "metadata": {},
   "source": [
    "### Create a vocabulary after text cleaning"
   ]
  },
  {
   "cell_type": "code",
   "execution_count": 189,
   "metadata": {
    "scrolled": false
   },
   "outputs": [
    {
     "name": "stdout",
     "output_type": "stream",
     "text": [
      "Total number of words in vocabulary after cleaning is: 23783 \n",
      "\n",
      "\n",
      "List of 20 of most frequent words: \n"
     ]
    },
    {
     "data": {
      "text/plain": [
       "[('br', 20312),\n",
       " ('film', 9707),\n",
       " ('movi', 9238),\n",
       " ('one', 5634),\n",
       " ('like', 4251),\n",
       " ('time', 3262),\n",
       " ('good', 3140),\n",
       " ('stori', 3037),\n",
       " ('see', 2916),\n",
       " ('charact', 2840),\n",
       " ('make', 2837),\n",
       " ('watch', 2671),\n",
       " ('get', 2649),\n",
       " ('love', 2543),\n",
       " ('show', 2463),\n",
       " ('well', 2430),\n",
       " ('great', 2360),\n",
       " ('even', 2286),\n",
       " ('would', 2244),\n",
       " ('realli', 2241)]"
      ]
     },
     "execution_count": 189,
     "metadata": {},
     "output_type": "execute_result"
    }
   ],
   "source": [
    "from collections import Counter\n",
    "\n",
    "vocab = Counter()\n",
    "for s in df_cleaned.text:\n",
    "   vocab.update(s.split())\n",
    "\n",
    "print(f\"Total number of words in vocabulary after cleaning is: {len(vocab)}\", '\\n\\n')\n",
    "print(\"List of 20 of most frequent words: \")\n",
    "vocab.most_common(20)\n"
   ]
  },
  {
   "cell_type": "markdown",
   "metadata": {},
   "source": [
    "### Making a pipeline\n",
    "- We use `cleanText2()` inside the pipeline"
   ]
  },
  {
   "cell_type": "code",
   "execution_count": 190,
   "metadata": {},
   "outputs": [],
   "source": [
    "from nltk.corpus import stopwords\n",
    "from nltk.tokenize import word_tokenize\n",
    "import string\n",
    "from nltk.stem import PorterStemmer\n",
    "from nltk.tokenize import sent_tokenize, word_tokenize\n",
    "\n",
    "def cleanText2(text):\n",
    "    for c in string.punctuation:\n",
    "        text = text.replace(c,\" \")\n",
    "    text = text.replace('“','')\n",
    "    text = text.replace('”','')\n",
    "    text = text.replace('’','')\n",
    "    text = text.replace('—',' ')\n",
    "    # Remove numbers\n",
    "    for c in range(10):\n",
    "        n = str(c)\n",
    "        text = text.replace(n,\" \")\n",
    "    text = text.str.lower()\n",
    "    text = stopText(text)\n",
    "    text = stemText(text)\n",
    "    text = [j.strip() for j in text]\n",
    "    return text"
   ]
  },
  {
   "cell_type": "markdown",
   "metadata": {},
   "source": [
    "### Use `FunctionTransformer`to transfrom the fucntion to be used in the pipeline"
   ]
  },
  {
   "cell_type": "code",
   "execution_count": 191,
   "metadata": {},
   "outputs": [],
   "source": [
    "from sklearn.preprocessing import FunctionTransformer\n",
    "\n",
    "text_cleaner = FunctionTransformer(cleanText2) # Transfrom the fucntion to be used in the pipeline"
   ]
  },
  {
   "cell_type": "code",
   "execution_count": 192,
   "metadata": {},
   "outputs": [],
   "source": [
    "from sklearn.feature_extraction.text import TfidfVectorizer\n",
    "\n",
    "# max_df = 0.5: Keep words appeared in less than 50% of documents\n",
    "# min_df = 10: Keep words appeared in more than 10 documents\n",
    "vectorzier = TfidfVectorizer(max_df = 0.5, min_df = 10)"
   ]
  },
  {
   "cell_type": "code",
   "execution_count": 193,
   "metadata": {},
   "outputs": [],
   "source": [
    "from sklearn.linear_model import SGDClassifier\n",
    "\n",
    "clf = SGDClassifier(\n",
    "               loss='log',\n",
    "               penalty='elasticnet',\n",
    "               class_weight = 'balanced',\n",
    "               tol=0.001)"
   ]
  },
  {
   "cell_type": "code",
   "execution_count": 194,
   "metadata": {},
   "outputs": [],
   "source": [
    "from sklearn.pipeline import Pipeline, make_pipeline\n",
    "\n",
    "pipe = make_pipeline(text_cleaner, vectorzier, clf)"
   ]
  },
  {
   "cell_type": "markdown",
   "metadata": {},
   "source": [
    "### Attention!\n",
    "- We're not working with cleaned dataset because we want to clean it inside the pipeline"
   ]
  },
  {
   "cell_type": "code",
   "execution_count": 195,
   "metadata": {},
   "outputs": [],
   "source": [
    "# df_corpus is the original dataset and NOT the cleaned one  \n",
    "X_train = df_corpus.text\n",
    "y_train = df_corpus.label"
   ]
  },
  {
   "cell_type": "code",
   "execution_count": 196,
   "metadata": {},
   "outputs": [
    {
     "data": {
      "text/plain": [
       "Pipeline(memory=None,\n",
       "         steps=[('functiontransformer',\n",
       "                 FunctionTransformer(accept_sparse=False, check_inverse=True,\n",
       "                                     func=<function cleanText2 at 0x0000020FEECAF0D8>,\n",
       "                                     inv_kw_args=None, inverse_func=None,\n",
       "                                     kw_args=None, validate=False)),\n",
       "                ('tfidfvectorizer',\n",
       "                 TfidfVectorizer(analyzer='word', binary=False,\n",
       "                                 decode_error='strict',\n",
       "                                 dtype=<class 'numpy.float64'>,\n",
       "                                 encoding='utf-...\n",
       "                 SGDClassifier(alpha=0.0001, average=False,\n",
       "                               class_weight='balanced', early_stopping=False,\n",
       "                               epsilon=0.1, eta0=0.0, fit_intercept=True,\n",
       "                               l1_ratio=0.15, learning_rate='optimal',\n",
       "                               loss='log', max_iter=1000, n_iter_no_change=5,\n",
       "                               n_jobs=None, penalty='elasticnet', power_t=0.5,\n",
       "                               random_state=None, shuffle=True, tol=0.001,\n",
       "                               validation_fraction=0.1, verbose=0,\n",
       "                               warm_start=False))],\n",
       "         verbose=False)"
      ]
     },
     "execution_count": 196,
     "metadata": {},
     "output_type": "execute_result"
    }
   ],
   "source": [
    "pipe.fit(X_train, y_train)"
   ]
  },
  {
   "cell_type": "code",
   "execution_count": 197,
   "metadata": {},
   "outputs": [
    {
     "data": {
      "text/plain": [
       "0.9652139144342263"
      ]
     },
     "execution_count": 197,
     "metadata": {},
     "output_type": "execute_result"
    }
   ],
   "source": [
    "pipe.score(X_train, y_train)"
   ]
  },
  {
   "cell_type": "markdown",
   "metadata": {},
   "source": [
    "### Let's test our model\n"
   ]
  },
  {
   "cell_type": "code",
   "execution_count": 198,
   "metadata": {},
   "outputs": [],
   "source": [
    "from sklearn.datasets import load_files\n",
    "\n",
    "# for reproducibility\n",
    "random_state = 42\n",
    "\n",
    "DATA_DIR = \"./Movie_Reviews/Sample_test\" # adress of the folder contains positive and negative folder of reviews\n",
    "test_data = load_files(DATA_DIR, encoding=\"utf-8\", decode_error=\"replace\", random_state=random_state)"
   ]
  },
  {
   "cell_type": "code",
   "execution_count": 199,
   "metadata": {},
   "outputs": [
    {
     "name": "stdout",
     "output_type": "stream",
     "text": [
      "we have 1252 reviews in our dataset\n"
     ]
    },
    {
     "data": {
      "text/html": [
       "<div>\n",
       "<style scoped>\n",
       "    .dataframe tbody tr th:only-of-type {\n",
       "        vertical-align: middle;\n",
       "    }\n",
       "\n",
       "    .dataframe tbody tr th {\n",
       "        vertical-align: top;\n",
       "    }\n",
       "\n",
       "    .dataframe thead th {\n",
       "        text-align: right;\n",
       "    }\n",
       "</style>\n",
       "<table border=\"1\" class=\"dataframe\">\n",
       "  <thead>\n",
       "    <tr style=\"text-align: right;\">\n",
       "      <th></th>\n",
       "      <th>text</th>\n",
       "      <th>label</th>\n",
       "    </tr>\n",
       "  </thead>\n",
       "  <tbody>\n",
       "    <tr>\n",
       "      <th>0</th>\n",
       "      <td>I like seeing Linda Blair playing in an actual \"horror\" movie again. I had been disappointed with her in most everything since the \"Exorcist \"movies (Which i loved). What was up with all of those...</td>\n",
       "      <td>1</td>\n",
       "    </tr>\n",
       "    <tr>\n",
       "      <th>1</th>\n",
       "      <td>This short deals with a severely critical writing teacher whose undiplomatic criticism extends into his everyday life. When he learns why that's not a good idea, we learn a bit about the beautifu...</td>\n",
       "      <td>1</td>\n",
       "    </tr>\n",
       "    <tr>\n",
       "      <th>2</th>\n",
       "      <td>Well it is a good movie. However, you have to admit that Van Dame's movies haven't been so great lately. On the other hand if you are a hardcore van Dame fan you should watch this as there is a h...</td>\n",
       "      <td>1</td>\n",
       "    </tr>\n",
       "    <tr>\n",
       "      <th>3</th>\n",
       "      <td>I swear if I did ever tried cocaine I'd be able to relate to this film perfectly. Its pace, as well as the dialog, churns out at speeds that some viewers might need to stop and relax their heads....</td>\n",
       "      <td>1</td>\n",
       "    </tr>\n",
       "    <tr>\n",
       "      <th>4</th>\n",
       "      <td>This agreeable French movie deals about a millionaire owner of a tobacco factory on an African island nearly to Madagascar named Louis(Jean Paul Belmondo). He's a single man looking wife, then he...</td>\n",
       "      <td>1</td>\n",
       "    </tr>\n",
       "    <tr>\n",
       "      <th>5</th>\n",
       "      <td>SPOILER WARNING&lt;br /&gt;&lt;br /&gt;We've all heard the \"Boy Who Cried Wolf\" legend. But what if the wolf was a person in the modern world. Well it might be something like Big Fat Liar. Fourteen-year-old ...</td>\n",
       "      <td>1</td>\n",
       "    </tr>\n",
       "    <tr>\n",
       "      <th>6</th>\n",
       "      <td>The real life case of an innocent First Nations chief(the Indian) by an Winnipeg city officer(the Cowboy) is the basis of this TV movie. The actual case caused its fair share of racial tension in...</td>\n",
       "      <td>1</td>\n",
       "    </tr>\n",
       "    <tr>\n",
       "      <th>7</th>\n",
       "      <td>Blade is a fantastic action/thriller that keeps you captured for the whole duration and Wesley Snipes delivers what I would say to be his best performance yet.&lt;br /&gt;&lt;br /&gt;This film has everything...</td>\n",
       "      <td>1</td>\n",
       "    </tr>\n",
       "    <tr>\n",
       "      <th>8</th>\n",
       "      <td>However closely the movie is to the comics, it doesn't matter. This movie radically moves away from the boredom of \"Interview with the Vampire\" (although it's acting was good) and slides in the w...</td>\n",
       "      <td>1</td>\n",
       "    </tr>\n",
       "    <tr>\n",
       "      <th>9</th>\n",
       "      <td>My parents used to rent a lot of horror movies when I was a child. We loved watching them even when they were bad they made for some enjoyment. This was one such movie, kind of hard to review as ...</td>\n",
       "      <td>0</td>\n",
       "    </tr>\n",
       "  </tbody>\n",
       "</table>\n",
       "</div>"
      ],
      "text/plain": [
       "                                                                                                                                                                                                     text  \\\n",
       "0  I like seeing Linda Blair playing in an actual \"horror\" movie again. I had been disappointed with her in most everything since the \"Exorcist \"movies (Which i loved). What was up with all of those...   \n",
       "1  This short deals with a severely critical writing teacher whose undiplomatic criticism extends into his everyday life. When he learns why that's not a good idea, we learn a bit about the beautifu...   \n",
       "2  Well it is a good movie. However, you have to admit that Van Dame's movies haven't been so great lately. On the other hand if you are a hardcore van Dame fan you should watch this as there is a h...   \n",
       "3  I swear if I did ever tried cocaine I'd be able to relate to this film perfectly. Its pace, as well as the dialog, churns out at speeds that some viewers might need to stop and relax their heads....   \n",
       "4  This agreeable French movie deals about a millionaire owner of a tobacco factory on an African island nearly to Madagascar named Louis(Jean Paul Belmondo). He's a single man looking wife, then he...   \n",
       "5  SPOILER WARNING<br /><br />We've all heard the \"Boy Who Cried Wolf\" legend. But what if the wolf was a person in the modern world. Well it might be something like Big Fat Liar. Fourteen-year-old ...   \n",
       "6  The real life case of an innocent First Nations chief(the Indian) by an Winnipeg city officer(the Cowboy) is the basis of this TV movie. The actual case caused its fair share of racial tension in...   \n",
       "7  Blade is a fantastic action/thriller that keeps you captured for the whole duration and Wesley Snipes delivers what I would say to be his best performance yet.<br /><br />This film has everything...   \n",
       "8  However closely the movie is to the comics, it doesn't matter. This movie radically moves away from the boredom of \"Interview with the Vampire\" (although it's acting was good) and slides in the w...   \n",
       "9  My parents used to rent a lot of horror movies when I was a child. We loved watching them even when they were bad they made for some enjoyment. This was one such movie, kind of hard to review as ...   \n",
       "\n",
       "   label  \n",
       "0      1  \n",
       "1      1  \n",
       "2      1  \n",
       "3      1  \n",
       "4      1  \n",
       "5      1  \n",
       "6      1  \n",
       "7      1  \n",
       "8      1  \n",
       "9      0  "
      ]
     },
     "execution_count": 199,
     "metadata": {},
     "output_type": "execute_result"
    }
   ],
   "source": [
    "import pandas as pd\n",
    "\n",
    "df_test = pd.DataFrame(list(zip(test_data['data'], test_data['target'])), columns=['text', 'label'])\n",
    "print(f\"we have {len(df_test)} reviews in our dataset\")\n",
    "df_test.head(10)"
   ]
  },
  {
   "cell_type": "code",
   "execution_count": 200,
   "metadata": {},
   "outputs": [
    {
     "name": "stdout",
     "output_type": "stream",
     "text": [
      "Positive: 1001\n",
      "Nagetaive: 251\n"
     ]
    }
   ],
   "source": [
    "print(f\"Positive: {len(df_test[ df_test.label == 1])}\\nNagetaive: {len(df_test[ df_test.label == 0])}\")\n"
   ]
  },
  {
   "cell_type": "code",
   "execution_count": 201,
   "metadata": {},
   "outputs": [
    {
     "name": "stdout",
     "output_type": "stream",
     "text": [
      "Total number of words in vocabulary before cleaning is : 38087\n"
     ]
    },
    {
     "data": {
      "text/plain": [
       "[('the', 14613),\n",
       " ('and', 8131),\n",
       " ('a', 7901),\n",
       " ('of', 7416),\n",
       " ('to', 6447),\n",
       " ('is', 5395),\n",
       " ('in', 4571),\n",
       " ('that', 3026),\n",
       " ('I', 3002),\n",
       " ('this', 2521),\n",
       " ('it', 2468),\n",
       " ('/><br', 2385),\n",
       " ('as', 2299),\n",
       " ('with', 2177),\n",
       " ('for', 2007),\n",
       " ('was', 1999),\n",
       " ('The', 1719),\n",
       " ('but', 1632),\n",
       " ('his', 1625),\n",
       " ('on', 1494)]"
      ]
     },
     "execution_count": 201,
     "metadata": {},
     "output_type": "execute_result"
    }
   ],
   "source": [
    "from collections import Counter\n",
    "\n",
    "vocab = Counter()\n",
    "for s in df_test.text:\n",
    "   vocab.update(s.split())\n",
    "\n",
    "print(f\"Total number of words in vocabulary before cleaning is : {len(vocab)}\")\n",
    "vocab.most_common(20)"
   ]
  },
  {
   "cell_type": "markdown",
   "metadata": {},
   "source": [
    "### 2.Clean the data\n",
    "- use this function instead\n",
    "- JUST FOR ILUSTRATION"
   ]
  },
  {
   "cell_type": "code",
   "execution_count": 202,
   "metadata": {
    "colab": {},
    "colab_type": "code",
    "executionInfo": {
     "elapsed": 390,
     "status": "ok",
     "timestamp": 1593888640113,
     "user": {
      "displayName": "Sanjiv Das",
      "photoUrl": "https://lh3.googleusercontent.com/a-/AOh14GhgUU3RgThSxLUq6NKSN2tDGDl8IQdtHMvdaZPE=s64",
      "userId": "06377870171053566924"
     },
     "user_tz": 420
    },
    "id": "ewgtIzwCHjfc",
    "slideshow": {
     "slide_type": "slide"
    }
   },
   "outputs": [],
   "source": [
    "def cleanText(text):\n",
    "    for c in string.punctuation:\n",
    "        text = text.replace(c,\" \")\n",
    "    text = text.replace('“','')\n",
    "    text = text.replace('”','')\n",
    "    text = text.replace('’','')\n",
    "    text = text.replace('—',' ')\n",
    "    # Remove numbers\n",
    "    for c in range(10):\n",
    "        n = str(c)\n",
    "        text = text.replace(n,\" \")\n",
    "    text = text.str.lower()\n",
    "    text = stopText(text)\n",
    "    text = stemText(text)\n",
    "    text = [j.strip() for j in text]\n",
    "    return text"
   ]
  },
  {
   "cell_type": "code",
   "execution_count": 203,
   "metadata": {},
   "outputs": [
    {
     "data": {
      "text/html": [
       "<div>\n",
       "<style scoped>\n",
       "    .dataframe tbody tr th:only-of-type {\n",
       "        vertical-align: middle;\n",
       "    }\n",
       "\n",
       "    .dataframe tbody tr th {\n",
       "        vertical-align: top;\n",
       "    }\n",
       "\n",
       "    .dataframe thead th {\n",
       "        text-align: right;\n",
       "    }\n",
       "</style>\n",
       "<table border=\"1\" class=\"dataframe\">\n",
       "  <thead>\n",
       "    <tr style=\"text-align: right;\">\n",
       "      <th></th>\n",
       "      <th>text</th>\n",
       "      <th>label</th>\n",
       "      <th>text_cleaned</th>\n",
       "    </tr>\n",
       "  </thead>\n",
       "  <tbody>\n",
       "    <tr>\n",
       "      <th>0</th>\n",
       "      <td>I like seeing Linda Blair playing in an actual \"horror\" movie again. I had been disappointed with her in most everything since the \"Exorcist \"movies (Which i loved). What was up with all of those...</td>\n",
       "      <td>1</td>\n",
       "      <td>like see linda blair play actual `` horror `` movi . disappoint everyth sinc `` exorcist `` movi ( love ) . nasti `` b-movi `` ? &lt; br / &gt; &lt; br / &gt; david hassellhoff hand , could laugh . cut horro...</td>\n",
       "    </tr>\n",
       "    <tr>\n",
       "      <th>1</th>\n",
       "      <td>This short deals with a severely critical writing teacher whose undiplomatic criticism extends into his everyday life. When he learns why that's not a good idea, we learn a bit about the beautifu...</td>\n",
       "      <td>1</td>\n",
       "      <td>short deal sever critic write teacher whose undiplomat critic extend everyday life . learn 's good idea , learn bit beauti craft write 's lectur .</td>\n",
       "    </tr>\n",
       "    <tr>\n",
       "      <th>2</th>\n",
       "      <td>Well it is a good movie. However, you have to admit that Van Dame's movies haven't been so great lately. On the other hand if you are a hardcore van Dame fan you should watch this as there is a h...</td>\n",
       "      <td>1</td>\n",
       "      <td>well good movi . howev , admit van dame 's movi n't great late . hand hardcor van dame fan watch huge improv fight scene . also realli like music beauti music . sure kill time action fan . isaac ...</td>\n",
       "    </tr>\n",
       "    <tr>\n",
       "      <th>3</th>\n",
       "      <td>I swear if I did ever tried cocaine I'd be able to relate to this film perfectly. Its pace, as well as the dialog, churns out at speeds that some viewers might need to stop and relax their heads....</td>\n",
       "      <td>1</td>\n",
       "      <td>swear ever tri cocain 'd abl relat film perfectli . pace , well dialog , churn speed viewer might need stop relax head . &lt; br / &gt; &lt; br / &gt; great littl element pop film , like rob low 's charact s...</td>\n",
       "    </tr>\n",
       "    <tr>\n",
       "      <th>4</th>\n",
       "      <td>This agreeable French movie deals about a millionaire owner of a tobacco factory on an African island nearly to Madagascar named Louis(Jean Paul Belmondo). He's a single man looking wife, then he...</td>\n",
       "      <td>1</td>\n",
       "      <td>agreeabl french movi deal millionair owner tobacco factori african island nearli madagascar name loui ( jean paul belmondo ) . 's singl man look wife , advertis bride get gorgeou woman name julia...</td>\n",
       "    </tr>\n",
       "    <tr>\n",
       "      <th>...</th>\n",
       "      <td>...</td>\n",
       "      <td>...</td>\n",
       "      <td>...</td>\n",
       "    </tr>\n",
       "    <tr>\n",
       "      <th>1247</th>\n",
       "      <td>This has to be one of the funniest movies I've ever seen. The idea of a typical family leaving everything behind to live in the wilderness. When mom and dad both lose there jobs, not to mention t...</td>\n",
       "      <td>1</td>\n",
       "      <td>one funniest movi 've ever seen . idea typic famili leav everyth behind live wilder . mom dad lose job , mention green slime bathtub . decid 's famili best interest move oregon . everyth goe wron...</td>\n",
       "    </tr>\n",
       "    <tr>\n",
       "      <th>1248</th>\n",
       "      <td>This was a excellent movie. I deal with a child who I am raising that has FAE and watching this movie was more than word can explain. I also purchased the book and it was great. I would like to h...</td>\n",
       "      <td>1</td>\n",
       "      <td>excel movi . deal child rais fae watch movi word explain . also purchas book great . would like copi use son 's teacher watch also.i would like know anyon could sell copi movi , let use time refe...</td>\n",
       "    </tr>\n",
       "    <tr>\n",
       "      <th>1249</th>\n",
       "      <td>Created by Dennis Spooner, 'Department S' was a glossy thriller show about an offshoot of Interpol, based in Geneva, created to solve baffling mysteries the police could not handle. If a plane la...</td>\n",
       "      <td>1</td>\n",
       "      <td>creat denni spooner , 'depart ' glossi thriller show offshoot interpol , base geneva , creat solv baffl mysteri polic could handl . plane land heathrow no-on aboard , man found wander around lond...</td>\n",
       "    </tr>\n",
       "    <tr>\n",
       "      <th>1250</th>\n",
       "      <td>I found this movie on Netflix and had to add it to my queue. I wasn't disappointed when I got it as it's just as funny now as when I saw it at a local drive-in theater back then.&lt;br /&gt;&lt;br /&gt;It bu...</td>\n",
       "      <td>1</td>\n",
       "      <td>found movi netflix add queue . n't disappoint got 's funni saw local drive-in theater back then . &lt; br / &gt; &lt; br / &gt; build climax nice get glimps variou charact begin trip across america `` honki ...</td>\n",
       "    </tr>\n",
       "    <tr>\n",
       "      <th>1251</th>\n",
       "      <td>Well, SWORD IN THE MOON finally got a DVD release in Korea, and despite the mostly negative responses I've heard to it, and the suspiciously tardy DVD release, I couldn't help but pick it up - an...</td>\n",
       "      <td>1</td>\n",
       "      <td>well , sword moon final got dvd releas korea , despit mostli neg respons 've heard , suspici tardi dvd releas , could n't help pick - wu xia film better non-wu xia film eye : perhap low expect ad...</td>\n",
       "    </tr>\n",
       "  </tbody>\n",
       "</table>\n",
       "<p>1252 rows × 3 columns</p>\n",
       "</div>"
      ],
      "text/plain": [
       "                                                                                                                                                                                                        text  \\\n",
       "0     I like seeing Linda Blair playing in an actual \"horror\" movie again. I had been disappointed with her in most everything since the \"Exorcist \"movies (Which i loved). What was up with all of those...   \n",
       "1     This short deals with a severely critical writing teacher whose undiplomatic criticism extends into his everyday life. When he learns why that's not a good idea, we learn a bit about the beautifu...   \n",
       "2     Well it is a good movie. However, you have to admit that Van Dame's movies haven't been so great lately. On the other hand if you are a hardcore van Dame fan you should watch this as there is a h...   \n",
       "3     I swear if I did ever tried cocaine I'd be able to relate to this film perfectly. Its pace, as well as the dialog, churns out at speeds that some viewers might need to stop and relax their heads....   \n",
       "4     This agreeable French movie deals about a millionaire owner of a tobacco factory on an African island nearly to Madagascar named Louis(Jean Paul Belmondo). He's a single man looking wife, then he...   \n",
       "...                                                                                                                                                                                                      ...   \n",
       "1247  This has to be one of the funniest movies I've ever seen. The idea of a typical family leaving everything behind to live in the wilderness. When mom and dad both lose there jobs, not to mention t...   \n",
       "1248  This was a excellent movie. I deal with a child who I am raising that has FAE and watching this movie was more than word can explain. I also purchased the book and it was great. I would like to h...   \n",
       "1249  Created by Dennis Spooner, 'Department S' was a glossy thriller show about an offshoot of Interpol, based in Geneva, created to solve baffling mysteries the police could not handle. If a plane la...   \n",
       "1250  I found this movie on Netflix and had to add it to my queue. I wasn't disappointed when I got it as it's just as funny now as when I saw it at a local drive-in theater back then.<br /><br />It bu...   \n",
       "1251  Well, SWORD IN THE MOON finally got a DVD release in Korea, and despite the mostly negative responses I've heard to it, and the suspiciously tardy DVD release, I couldn't help but pick it up - an...   \n",
       "\n",
       "      label  \\\n",
       "0         1   \n",
       "1         1   \n",
       "2         1   \n",
       "3         1   \n",
       "4         1   \n",
       "...     ...   \n",
       "1247      1   \n",
       "1248      1   \n",
       "1249      1   \n",
       "1250      1   \n",
       "1251      1   \n",
       "\n",
       "                                                                                                                                                                                                text_cleaned  \n",
       "0     like see linda blair play actual `` horror `` movi . disappoint everyth sinc `` exorcist `` movi ( love ) . nasti `` b-movi `` ? < br / > < br / > david hassellhoff hand , could laugh . cut horro...  \n",
       "1                                                         short deal sever critic write teacher whose undiplomat critic extend everyday life . learn 's good idea , learn bit beauti craft write 's lectur .  \n",
       "2     well good movi . howev , admit van dame 's movi n't great late . hand hardcor van dame fan watch huge improv fight scene . also realli like music beauti music . sure kill time action fan . isaac ...  \n",
       "3     swear ever tri cocain 'd abl relat film perfectli . pace , well dialog , churn speed viewer might need stop relax head . < br / > < br / > great littl element pop film , like rob low 's charact s...  \n",
       "4     agreeabl french movi deal millionair owner tobacco factori african island nearli madagascar name loui ( jean paul belmondo ) . 's singl man look wife , advertis bride get gorgeou woman name julia...  \n",
       "...                                                                                                                                                                                                      ...  \n",
       "1247  one funniest movi 've ever seen . idea typic famili leav everyth behind live wilder . mom dad lose job , mention green slime bathtub . decid 's famili best interest move oregon . everyth goe wron...  \n",
       "1248  excel movi . deal child rais fae watch movi word explain . also purchas book great . would like copi use son 's teacher watch also.i would like know anyon could sell copi movi , let use time refe...  \n",
       "1249  creat denni spooner , 'depart ' glossi thriller show offshoot interpol , base geneva , creat solv baffl mysteri polic could handl . plane land heathrow no-on aboard , man found wander around lond...  \n",
       "1250  found movi netflix add queue . n't disappoint got 's funni saw local drive-in theater back then . < br / > < br / > build climax nice get glimps variou charact begin trip across america `` honki ...  \n",
       "1251  well , sword moon final got dvd releas korea , despit mostli neg respons 've heard , suspici tardi dvd releas , could n't help pick - wu xia film better non-wu xia film eye : perhap low expect ad...  \n",
       "\n",
       "[1252 rows x 3 columns]"
      ]
     },
     "execution_count": 203,
     "metadata": {},
     "output_type": "execute_result"
    }
   ],
   "source": [
    "df_test['text_cleaned'] = cleanText(df_test['text'])\n",
    "df_test"
   ]
  },
  {
   "cell_type": "markdown",
   "metadata": {},
   "source": [
    "### Let's load the uncleaned data again"
   ]
  },
  {
   "cell_type": "code",
   "execution_count": 205,
   "metadata": {},
   "outputs": [
    {
     "data": {
      "text/html": [
       "<div>\n",
       "<style scoped>\n",
       "    .dataframe tbody tr th:only-of-type {\n",
       "        vertical-align: middle;\n",
       "    }\n",
       "\n",
       "    .dataframe tbody tr th {\n",
       "        vertical-align: top;\n",
       "    }\n",
       "\n",
       "    .dataframe thead th {\n",
       "        text-align: right;\n",
       "    }\n",
       "</style>\n",
       "<table border=\"1\" class=\"dataframe\">\n",
       "  <thead>\n",
       "    <tr style=\"text-align: right;\">\n",
       "      <th></th>\n",
       "      <th>text</th>\n",
       "      <th>label</th>\n",
       "    </tr>\n",
       "  </thead>\n",
       "  <tbody>\n",
       "    <tr>\n",
       "      <th>0</th>\n",
       "      <td>I like seeing Linda Blair playing in an actual \"horror\" movie again. I had been disappointed with her in most everything since the \"Exorcist \"movies (Which i loved). What was up with all of those...</td>\n",
       "      <td>1</td>\n",
       "    </tr>\n",
       "    <tr>\n",
       "      <th>1</th>\n",
       "      <td>This short deals with a severely critical writing teacher whose undiplomatic criticism extends into his everyday life. When he learns why that's not a good idea, we learn a bit about the beautifu...</td>\n",
       "      <td>1</td>\n",
       "    </tr>\n",
       "    <tr>\n",
       "      <th>2</th>\n",
       "      <td>Well it is a good movie. However, you have to admit that Van Dame's movies haven't been so great lately. On the other hand if you are a hardcore van Dame fan you should watch this as there is a h...</td>\n",
       "      <td>1</td>\n",
       "    </tr>\n",
       "    <tr>\n",
       "      <th>3</th>\n",
       "      <td>I swear if I did ever tried cocaine I'd be able to relate to this film perfectly. Its pace, as well as the dialog, churns out at speeds that some viewers might need to stop and relax their heads....</td>\n",
       "      <td>1</td>\n",
       "    </tr>\n",
       "    <tr>\n",
       "      <th>4</th>\n",
       "      <td>This agreeable French movie deals about a millionaire owner of a tobacco factory on an African island nearly to Madagascar named Louis(Jean Paul Belmondo). He's a single man looking wife, then he...</td>\n",
       "      <td>1</td>\n",
       "    </tr>\n",
       "    <tr>\n",
       "      <th>5</th>\n",
       "      <td>SPOILER WARNING&lt;br /&gt;&lt;br /&gt;We've all heard the \"Boy Who Cried Wolf\" legend. But what if the wolf was a person in the modern world. Well it might be something like Big Fat Liar. Fourteen-year-old ...</td>\n",
       "      <td>1</td>\n",
       "    </tr>\n",
       "    <tr>\n",
       "      <th>6</th>\n",
       "      <td>The real life case of an innocent First Nations chief(the Indian) by an Winnipeg city officer(the Cowboy) is the basis of this TV movie. The actual case caused its fair share of racial tension in...</td>\n",
       "      <td>1</td>\n",
       "    </tr>\n",
       "    <tr>\n",
       "      <th>7</th>\n",
       "      <td>Blade is a fantastic action/thriller that keeps you captured for the whole duration and Wesley Snipes delivers what I would say to be his best performance yet.&lt;br /&gt;&lt;br /&gt;This film has everything...</td>\n",
       "      <td>1</td>\n",
       "    </tr>\n",
       "    <tr>\n",
       "      <th>8</th>\n",
       "      <td>However closely the movie is to the comics, it doesn't matter. This movie radically moves away from the boredom of \"Interview with the Vampire\" (although it's acting was good) and slides in the w...</td>\n",
       "      <td>1</td>\n",
       "    </tr>\n",
       "    <tr>\n",
       "      <th>9</th>\n",
       "      <td>My parents used to rent a lot of horror movies when I was a child. We loved watching them even when they were bad they made for some enjoyment. This was one such movie, kind of hard to review as ...</td>\n",
       "      <td>0</td>\n",
       "    </tr>\n",
       "  </tbody>\n",
       "</table>\n",
       "</div>"
      ],
      "text/plain": [
       "                                                                                                                                                                                                     text  \\\n",
       "0  I like seeing Linda Blair playing in an actual \"horror\" movie again. I had been disappointed with her in most everything since the \"Exorcist \"movies (Which i loved). What was up with all of those...   \n",
       "1  This short deals with a severely critical writing teacher whose undiplomatic criticism extends into his everyday life. When he learns why that's not a good idea, we learn a bit about the beautifu...   \n",
       "2  Well it is a good movie. However, you have to admit that Van Dame's movies haven't been so great lately. On the other hand if you are a hardcore van Dame fan you should watch this as there is a h...   \n",
       "3  I swear if I did ever tried cocaine I'd be able to relate to this film perfectly. Its pace, as well as the dialog, churns out at speeds that some viewers might need to stop and relax their heads....   \n",
       "4  This agreeable French movie deals about a millionaire owner of a tobacco factory on an African island nearly to Madagascar named Louis(Jean Paul Belmondo). He's a single man looking wife, then he...   \n",
       "5  SPOILER WARNING<br /><br />We've all heard the \"Boy Who Cried Wolf\" legend. But what if the wolf was a person in the modern world. Well it might be something like Big Fat Liar. Fourteen-year-old ...   \n",
       "6  The real life case of an innocent First Nations chief(the Indian) by an Winnipeg city officer(the Cowboy) is the basis of this TV movie. The actual case caused its fair share of racial tension in...   \n",
       "7  Blade is a fantastic action/thriller that keeps you captured for the whole duration and Wesley Snipes delivers what I would say to be his best performance yet.<br /><br />This film has everything...   \n",
       "8  However closely the movie is to the comics, it doesn't matter. This movie radically moves away from the boredom of \"Interview with the Vampire\" (although it's acting was good) and slides in the w...   \n",
       "9  My parents used to rent a lot of horror movies when I was a child. We loved watching them even when they were bad they made for some enjoyment. This was one such movie, kind of hard to review as ...   \n",
       "\n",
       "   label  \n",
       "0      1  \n",
       "1      1  \n",
       "2      1  \n",
       "3      1  \n",
       "4      1  \n",
       "5      1  \n",
       "6      1  \n",
       "7      1  \n",
       "8      1  \n",
       "9      0  "
      ]
     },
     "execution_count": 205,
     "metadata": {},
     "output_type": "execute_result"
    }
   ],
   "source": [
    "df_test = pd.DataFrame(list(zip(test_data['data'], test_data['target'])), columns=['text', 'label'])\n",
    "df_test.head(10)"
   ]
  },
  {
   "cell_type": "code",
   "execution_count": 206,
   "metadata": {},
   "outputs": [],
   "source": [
    "X_test = df_test.text\n",
    "y_test = df_test.label"
   ]
  },
  {
   "cell_type": "code",
   "execution_count": 207,
   "metadata": {},
   "outputs": [
    {
     "data": {
      "text/plain": [
       "pandas.core.series.Series"
      ]
     },
     "execution_count": 207,
     "metadata": {},
     "output_type": "execute_result"
    }
   ],
   "source": [
    "type(X_test)"
   ]
  },
  {
   "cell_type": "code",
   "execution_count": 208,
   "metadata": {},
   "outputs": [
    {
     "name": "stdout",
     "output_type": "stream",
     "text": [
      "The mean accuracy score is     0.872\n",
      "The AUC score is               0.916\n"
     ]
    }
   ],
   "source": [
    "from sklearn.metrics import roc_auc_score\n",
    "\n",
    "y_pred_proba = pipe.predict_proba(X_test)[:,1]\n",
    "y_pred= pipe.predict(X_test)\n",
    "\n",
    "#print(f\"The balanced accuracy score is {balanced_accuracy_score(y_test, y_pred):0.3f}\")\n",
    "print(f\"The mean accuracy score is     {pipe.score(X_test, y_test):0.3f}\")\n",
    "print(f\"The AUC score is               {roc_auc_score(y_test, y_pred_proba):0.3f}\")\n"
   ]
  },
  {
   "cell_type": "markdown",
   "metadata": {},
   "source": [
    "### Let's test another review"
   ]
  },
  {
   "cell_type": "code",
   "execution_count": 209,
   "metadata": {
    "scrolled": true
   },
   "outputs": [
    {
     "name": "stdout",
     "output_type": "stream",
     "text": [
      "It is exactly truth. This series separated the iranian people from iranian islamic government. It can be our sound to all over the world. Iranians are not bad people. We are not terrrorists. We are not like our evil government and system, \n",
      "Predicticted class is: 0\n",
      "\n",
      "Tehran is a tense and very well made series with excellent performances from mostly Iranianactors now living abroad., \n",
      "Predicticted class is: 1\n",
      "\n"
     ]
    }
   ],
   "source": [
    "rev1 = \"It is exactly truth. This series separated the iranian people from iranian islamic \\\n",
    "government. It can be our sound to all over the world. Iranians are not bad people. \\\n",
    "We are not terrrorists. We are not like our evil government and system\"\n",
    "\n",
    "rev2 = \"Tehran is a tense and very well made series with excellent performances from mostly Iranian\\\n",
    "actors now living abroad.\"\n",
    "\n",
    "# 1st we need to convert them into Pandas.Series be X was a series\n",
    "revs = pd.Series([rev1, rev2])\n",
    "\n",
    "print(f\"{rev1}, \\nPredicticted class is: {pipe.predict(revs)[0]}\", end = '\\n\\n')\n",
    "print(f\"{rev2}, \\nPredicticted class is: {pipe.predict(revs)[1]}\", end = '\\n\\n')"
   ]
  }
 ],
 "metadata": {
  "kernelspec": {
   "display_name": "Python 3",
   "language": "python",
   "name": "python3"
  },
  "language_info": {
   "codemirror_mode": {
    "name": "ipython",
    "version": 3
   },
   "file_extension": ".py",
   "mimetype": "text/x-python",
   "name": "python",
   "nbconvert_exporter": "python",
   "pygments_lexer": "ipython3",
   "version": "3.7.4"
  }
 },
 "nbformat": 4,
 "nbformat_minor": 2
}
