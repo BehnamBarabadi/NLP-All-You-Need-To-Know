{
 "cells": [
  {
   "cell_type": "markdown",
   "metadata": {},
   "source": [
    "# **Multi-class text classification problem**\n",
    "- Names in 16 different languages\n",
    "- Inputs are characters as one-hot encoded vectors\n",
    "- We handrolled our own memory cell to feed words of different length without padding"
   ]
  },
  {
   "cell_type": "markdown",
   "metadata": {},
   "source": [
    "#### Simplified and modified from the PyTorch tutorial available here:\n",
    "\n",
    "https://pytorch.org/tutorials/intermediate/char_rnn_classification_tutorial.html#creating-the-network"
   ]
  },
  {
   "cell_type": "code",
   "execution_count": 22,
   "metadata": {},
   "outputs": [],
   "source": [
    "from io import open\n",
    "import glob\n",
    "import os"
   ]
  },
  {
   "cell_type": "code",
   "execution_count": 23,
   "metadata": {},
   "outputs": [
    {
     "name": "stdout",
     "output_type": "stream",
     "text": [
      "['datasets/data/names\\\\Arabic.txt', 'datasets/data/names\\\\Chinese.txt', 'datasets/data/names\\\\Czech.txt', 'datasets/data/names\\\\Dutch.txt', 'datasets/data/names\\\\English.txt', 'datasets/data/names\\\\French.txt', 'datasets/data/names\\\\German.txt', 'datasets/data/names\\\\Greek.txt', 'datasets/data/names\\\\Irish.txt', 'datasets/data/names\\\\Italian.txt', 'datasets/data/names\\\\Japanese.txt', 'datasets/data/names\\\\Korean.txt', 'datasets/data/names\\\\Polish.txt', 'datasets/data/names\\\\Portuguese.txt', 'datasets/data/names\\\\Russian.txt', 'datasets/data/names\\\\Scottish.txt', 'datasets/data/names\\\\Spanish.txt', 'datasets/data/names\\\\Vietnamese.txt']\n"
     ]
    }
   ],
   "source": [
    "print(glob.glob('datasets/data/names/*.txt'))\n",
    "# to read all the txt files in the names folder"
   ]
  },
  {
   "cell_type": "markdown",
   "metadata": {},
   "source": [
    "### Our model receives names in different languages character by character and classify them as the languages they belong to.\n",
    "- 16 different languages"
   ]
  },
  {
   "cell_type": "code",
   "execution_count": 24,
   "metadata": {},
   "outputs": [
    {
     "data": {
      "text/plain": [
       "\"abcdefghijklmnopqrstuvwxyzABCDEFGHIJKLMNOPQRSTUVWXYZ .,;'\""
      ]
     },
     "execution_count": 24,
     "metadata": {},
     "output_type": "execute_result"
    }
   ],
   "source": [
    "import unicodedata\n",
    "import string\n",
    "\n",
    "all_letters = string.ascii_letters + \" .,;'\" # all the characters in our vocabulary\n",
    "n_letters = len(all_letters)\n",
    "\n",
    "all_letters # vocabulary of all letters"
   ]
  },
  {
   "cell_type": "code",
   "execution_count": 48,
   "metadata": {},
   "outputs": [
    {
     "data": {
      "text/plain": [
       "str"
      ]
     },
     "execution_count": 48,
     "metadata": {},
     "output_type": "execute_result"
    }
   ],
   "source": [
    "type(all_letters)"
   ]
  },
  {
   "cell_type": "code",
   "execution_count": 25,
   "metadata": {},
   "outputs": [
    {
     "name": "stdout",
     "output_type": "stream",
     "text": [
      "size of one-hot encoded feature-vector for each individual character: 57\n"
     ]
    }
   ],
   "source": [
    "print(\"size of one-hot encoded feature-vector for each individual character:\", n_letters)"
   ]
  },
  {
   "cell_type": "markdown",
   "metadata": {},
   "source": [
    "### For each character:\n",
    "- 1 --> 1\n",
    "- 56 --> 0"
   ]
  },
  {
   "cell_type": "markdown",
   "metadata": {},
   "source": [
    "#### Build the `language_names` dictionary, a list of names per language"
   ]
  },
  {
   "cell_type": "code",
   "execution_count": 26,
   "metadata": {},
   "outputs": [],
   "source": [
    "language_names = {}\n",
    "\n",
    "all_languages = []"
   ]
  },
  {
   "cell_type": "markdown",
   "metadata": {},
   "source": [
    "#### Read a file and split into lines"
   ]
  },
  {
   "cell_type": "markdown",
   "metadata": {},
   "source": [
    "Turn a Unicode string to plain ASCII (may alter the meaning of words)\n",
    "https://stackoverflow.com/questions/517923/what-is-the-best-way-to-remove-accents-in-a-python-unicode-string/518232#518232"
   ]
  },
  {
   "cell_type": "markdown",
   "metadata": {},
   "source": [
    "### Define a function to convert unicode characters to ascii\n",
    "- É --> E"
   ]
  },
  {
   "cell_type": "code",
   "execution_count": 27,
   "metadata": {},
   "outputs": [],
   "source": [
    "def unicodeToAscii(s):\n",
    "    return ''.join(\n",
    "        c for c in unicodedata.normalize('NFD', s)\n",
    "        if unicodedata.category(c) != 'Mn'\n",
    "        and c in all_letters # all_letters is of type string\n",
    "    )"
   ]
  },
  {
   "cell_type": "code",
   "execution_count": 28,
   "metadata": {},
   "outputs": [
    {
     "name": "stdout",
     "output_type": "stream",
     "text": [
      "Emile\n"
     ]
    }
   ],
   "source": [
    "print(unicodeToAscii('Émile'))"
   ]
  },
  {
   "cell_type": "code",
   "execution_count": 29,
   "metadata": {},
   "outputs": [
    {
     "name": "stdout",
     "output_type": "stream",
     "text": [
      "Ibanez\n"
     ]
    }
   ],
   "source": [
    "print(unicodeToAscii('Ibáñez'))"
   ]
  },
  {
   "cell_type": "code",
   "execution_count": 30,
   "metadata": {},
   "outputs": [],
   "source": [
    "def findFiles(path): # read all the files from a certain path\n",
    "    return glob.glob(path)"
   ]
  },
  {
   "cell_type": "markdown",
   "metadata": {},
   "source": [
    "### Now we want to map all the words to their corresponding language"
   ]
  },
  {
   "cell_type": "code",
   "execution_count": 31,
   "metadata": {},
   "outputs": [
    {
     "name": "stdout",
     "output_type": "stream",
     "text": [
      "('Arabic', '.txt')\n",
      "('Chinese', '.txt')\n",
      "('Czech', '.txt')\n",
      "('Dutch', '.txt')\n",
      "('English', '.txt')\n",
      "('French', '.txt')\n",
      "('German', '.txt')\n",
      "('Greek', '.txt')\n",
      "('Irish', '.txt')\n",
      "('Italian', '.txt')\n",
      "('Japanese', '.txt')\n",
      "('Korean', '.txt')\n",
      "('Polish', '.txt')\n",
      "('Portuguese', '.txt')\n",
      "('Russian', '.txt')\n",
      "('Scottish', '.txt')\n",
      "('Spanish', '.txt')\n",
      "('Vietnamese', '.txt')\n"
     ]
    }
   ],
   "source": [
    "for filename in findFiles('datasets/data/names/*.txt'):\n",
    "    \n",
    "    language = os.path.splitext(os.path.basename(filename))\n",
    "    print(language)"
   ]
  },
  {
   "cell_type": "code",
   "execution_count": 32,
   "metadata": {},
   "outputs": [],
   "source": [
    "total_names = 0\n",
    "\n",
    "for filename in findFiles('datasets/data/names/*.txt'):\n",
    "    \n",
    "    language = os.path.splitext(os.path.basename(filename))[0] # exclude .txt from file names\n",
    "    \n",
    "    all_languages.append(language) # append all language names to a list\n",
    "    \n",
    "    # for each .txt file: read all the names in each file seperated by next line and strip the spaces. \n",
    "    # read_name is a list of all names\n",
    "    read_names = open(filename, encoding='utf-8').read().strip().split('\\n') \n",
    "    \n",
    "    # convert each name from unicode to ascii\n",
    "    # names is a list of all names in ascii\n",
    "    names = [unicodeToAscii(line) for line in read_names]\n",
    "    \n",
    "    # in this dictioanry, each key is a langauge and each value is a list of names in that language \n",
    "    language_names[language] = names\n",
    "    \n",
    "    # total number of names in all languages\n",
    "    total_names += len(names)"
   ]
  },
  {
   "cell_type": "markdown",
   "metadata": {},
   "source": [
    "#### There are 18 languages to which a name can be classified into"
   ]
  },
  {
   "cell_type": "code",
   "execution_count": 33,
   "metadata": {},
   "outputs": [
    {
     "data": {
      "text/plain": [
       "['Arabic',\n",
       " 'Chinese',\n",
       " 'Czech',\n",
       " 'Dutch',\n",
       " 'English',\n",
       " 'French',\n",
       " 'German',\n",
       " 'Greek',\n",
       " 'Irish',\n",
       " 'Italian',\n",
       " 'Japanese',\n",
       " 'Korean',\n",
       " 'Polish',\n",
       " 'Portuguese',\n",
       " 'Russian',\n",
       " 'Scottish',\n",
       " 'Spanish',\n",
       " 'Vietnamese']"
      ]
     },
     "execution_count": 33,
     "metadata": {},
     "output_type": "execute_result"
    }
   ],
   "source": [
    "all_languages"
   ]
  },
  {
   "cell_type": "code",
   "execution_count": 34,
   "metadata": {},
   "outputs": [
    {
     "data": {
      "text/plain": [
       "18"
      ]
     },
     "execution_count": 34,
     "metadata": {},
     "output_type": "execute_result"
    }
   ],
   "source": [
    "n_languages = len(all_languages)\n",
    "n_languages"
   ]
  },
  {
   "cell_type": "code",
   "execution_count": 36,
   "metadata": {},
   "outputs": [
    {
     "data": {
      "text/plain": [
       "20074"
      ]
     },
     "execution_count": 36,
     "metadata": {},
     "output_type": "execute_result"
    }
   ],
   "source": [
    "total_names"
   ]
  },
  {
   "cell_type": "markdown",
   "metadata": {},
   "source": [
    "Now we have language_names, a dictionary mapping each category (language) to a list of lines (names). "
   ]
  },
  {
   "cell_type": "code",
   "execution_count": 37,
   "metadata": {},
   "outputs": [
    {
     "name": "stdout",
     "output_type": "stream",
     "text": [
      "['Abl', 'Adsit', 'Ajdrna', 'Alt', 'Antonowitsch']\n"
     ]
    }
   ],
   "source": [
    "print(language_names['Czech'][:5])"
   ]
  },
  {
   "cell_type": "markdown",
   "metadata": {},
   "source": [
    "#### Turning Names into Tensors\n",
    "\n",
    "Represent each name in one-hot encoded form (1 for the position of the letter, 0 elsewhere)\n",
    "\n",
    "To make a word we join a bunch of those into a 2D matrix <line_length x 1 x n_letters>.\n",
    "That extra 1 dimension is because PyTorch assumes everything is in batches - we're just using a batch size of 1 here.\n",
    "\n",
    "- The below function is the one-hot encoder of characters"
   ]
  },
  {
   "cell_type": "code",
   "execution_count": 41,
   "metadata": {},
   "outputs": [],
   "source": [
    "import torch"
   ]
  },
  {
   "cell_type": "code",
   "execution_count": 52,
   "metadata": {},
   "outputs": [],
   "source": [
    "def letterToTensor(letter):\n",
    "    \n",
    "    # for each character, we create a feature-vector of all zeros and length of all letters(57)\n",
    "    tensor = torch.zeros(1, n_letters) \n",
    "    \n",
    "    # now each character shape is [1,57]\n",
    "    # all_letters is a string of all characters in ascii\n",
    "    # all_letters.find(letter) gives the index of the letter\n",
    "    tensor[0][all_letters.find(letter)] = 1 \n",
    "    \n",
    "    \n",
    "    return tensor"
   ]
  },
  {
   "cell_type": "code",
   "execution_count": 56,
   "metadata": {},
   "outputs": [
    {
     "data": {
      "text/plain": [
       "\"abcdefghijklmnopqrstuvwxyzABCDEFGHIJKLMNOPQRSTUVWXYZ .,;'\""
      ]
     },
     "execution_count": 56,
     "metadata": {},
     "output_type": "execute_result"
    }
   ],
   "source": [
    "all_letters"
   ]
  },
  {
   "cell_type": "code",
   "execution_count": 53,
   "metadata": {},
   "outputs": [
    {
     "data": {
      "text/plain": [
       "2"
      ]
     },
     "execution_count": 53,
     "metadata": {},
     "output_type": "execute_result"
    }
   ],
   "source": [
    "all_letters.find('c')"
   ]
  },
  {
   "cell_type": "code",
   "execution_count": 54,
   "metadata": {},
   "outputs": [
    {
     "name": "stdout",
     "output_type": "stream",
     "text": [
      "tensor([[1., 0., 0., 0., 0., 0., 0., 0., 0., 0., 0., 0., 0., 0., 0., 0., 0., 0.,\n",
      "         0., 0., 0., 0., 0., 0., 0., 0., 0., 0., 0., 0., 0., 0., 0., 0., 0., 0.,\n",
      "         0., 0., 0., 0., 0., 0., 0., 0., 0., 0., 0., 0., 0., 0., 0., 0., 0., 0.,\n",
      "         0., 0., 0.]])\n"
     ]
    }
   ],
   "source": [
    "print(letterToTensor('a'))"
   ]
  },
  {
   "cell_type": "code",
   "execution_count": 55,
   "metadata": {},
   "outputs": [
    {
     "name": "stdout",
     "output_type": "stream",
     "text": [
      "tensor([[0., 0., 0., 0., 0., 0., 0., 0., 0., 0., 0., 0., 0., 0., 0., 0., 0., 0.,\n",
      "         0., 0., 0., 0., 0., 0., 0., 0., 0., 0., 0., 0., 0., 0., 0., 0., 0., 0.,\n",
      "         0., 0., 0., 0., 0., 0., 0., 0., 0., 0., 0., 0., 0., 0., 0., 1., 0., 0.,\n",
      "         0., 0., 0.]])\n"
     ]
    }
   ],
   "source": [
    "print(letterToTensor('Z'))"
   ]
  },
  {
   "cell_type": "markdown",
   "metadata": {},
   "source": [
    "### The inputs to the network are names, one character at a time in tensor format  which each character is a one-hot encoded tensor itself.\n",
    "- The below function is the one-hot encoder of names"
   ]
  },
  {
   "cell_type": "code",
   "execution_count": 57,
   "metadata": {},
   "outputs": [],
   "source": [
    "def nameToTensor(name):\n",
    "    \n",
    "    # 3 dimension tensor \n",
    "    # if len(name) = 5, it means that we have 5 2-d tensors, each of size(1, n_letters )\n",
    "    tensor = torch.zeros(len(name), 1, n_letters)\n",
    "    \n",
    "    # create one-hot encoded tensors for each letter in a given name and combines them to gether\n",
    "    for li, letter in enumerate(name):\n",
    "        tensor[li][0][all_letters.find(letter)] = 1\n",
    "    \n",
    "    return tensor"
   ]
  },
  {
   "cell_type": "code",
   "execution_count": 59,
   "metadata": {},
   "outputs": [
    {
     "data": {
      "text/plain": [
       "torch.Size([4, 1, 57])"
      ]
     },
     "execution_count": 59,
     "metadata": {},
     "output_type": "execute_result"
    }
   ],
   "source": [
    "mary_tensor = nameToTensor('Mary')\n",
    "\n",
    "mary_tensor.size()\n",
    "# 4 leters in 'Mary'\n",
    "# each letter has the shpa of (1, 57)\n",
    "# 1 is for the format that RNN expects"
   ]
  },
  {
   "cell_type": "code",
   "execution_count": 60,
   "metadata": {},
   "outputs": [
    {
     "data": {
      "text/plain": [
       "tensor([[[0., 0., 0., 0., 0., 0., 0., 0., 0., 0., 0., 0., 0., 0., 0., 0., 0.,\n",
       "          0., 0., 0., 0., 0., 0., 0., 0., 0., 0., 0., 0., 0., 0., 0., 0., 0.,\n",
       "          0., 0., 0., 0., 1., 0., 0., 0., 0., 0., 0., 0., 0., 0., 0., 0., 0.,\n",
       "          0., 0., 0., 0., 0., 0.]],\n",
       "\n",
       "        [[1., 0., 0., 0., 0., 0., 0., 0., 0., 0., 0., 0., 0., 0., 0., 0., 0.,\n",
       "          0., 0., 0., 0., 0., 0., 0., 0., 0., 0., 0., 0., 0., 0., 0., 0., 0.,\n",
       "          0., 0., 0., 0., 0., 0., 0., 0., 0., 0., 0., 0., 0., 0., 0., 0., 0.,\n",
       "          0., 0., 0., 0., 0., 0.]],\n",
       "\n",
       "        [[0., 0., 0., 0., 0., 0., 0., 0., 0., 0., 0., 0., 0., 0., 0., 0., 0.,\n",
       "          1., 0., 0., 0., 0., 0., 0., 0., 0., 0., 0., 0., 0., 0., 0., 0., 0.,\n",
       "          0., 0., 0., 0., 0., 0., 0., 0., 0., 0., 0., 0., 0., 0., 0., 0., 0.,\n",
       "          0., 0., 0., 0., 0., 0.]],\n",
       "\n",
       "        [[0., 0., 0., 0., 0., 0., 0., 0., 0., 0., 0., 0., 0., 0., 0., 0., 0.,\n",
       "          0., 0., 0., 0., 0., 0., 0., 1., 0., 0., 0., 0., 0., 0., 0., 0., 0.,\n",
       "          0., 0., 0., 0., 0., 0., 0., 0., 0., 0., 0., 0., 0., 0., 0., 0., 0.,\n",
       "          0., 0., 0., 0., 0., 0.]]])"
      ]
     },
     "execution_count": 60,
     "metadata": {},
     "output_type": "execute_result"
    }
   ],
   "source": [
    "mary_tensor"
   ]
  },
  {
   "cell_type": "markdown",
   "metadata": {},
   "source": [
    "### Now let's define our own RNN\n",
    "- This allows us to give inputs of different shape to the Model"
   ]
  },
  {
   "cell_type": "code",
   "execution_count": 68,
   "metadata": {},
   "outputs": [],
   "source": [
    "import torch.nn as nn\n",
    "\n",
    "class RNN(nn.Module):\n",
    "    \n",
    "    def __init__(self, input_size, hidden_size, output_size):\n",
    "        # input_size = n_letters = 57 (inputs are characters and not words)\n",
    "        # hidden_size we define it\n",
    "        # output_size is 16 for 18 languages\n",
    "        \n",
    "        super(RNN, self).__init__()\n",
    "\n",
    "        self.hidden_size = hidden_size\n",
    "        \n",
    "        # i2h means input to hidden and makes up one memory cell in our network\n",
    "        # gets the next hidden state from (current input and previous hidden state)\n",
    "        # output is the next hidden state\n",
    "        self.i2h = nn.Linear(input_size + hidden_size, hidden_size)\n",
    "        \n",
    "        # i2h means input to output\n",
    "        # gets the next output state from (current input and previous hidden state)\n",
    "        self.i2o = nn.Linear(input_size + hidden_size, output_size)\n",
    "                                  \n",
    "        self.softmax = nn.LogSoftmax(dim=1)\n",
    "\n",
    "    def forward(self, input, hidden):\n",
    "        # we give (current input and previous hidden) as inputs to the model when we want to train it\n",
    "        \n",
    "        # concatanate current input with previous state to get a single vector\n",
    "        combined = torch.cat((input, hidden), 1)\n",
    "        \n",
    "        # gives us the next hidden state of the RNN\n",
    "        hidden = self.i2h(combined)\n",
    "        \n",
    "        # gives the next output of the RNN\n",
    "        output = self.i2o(combined)\n",
    "        output = self.softmax(output)\n",
    "        \n",
    "        return output, hidden\n",
    "\n",
    "    def initHidden(self):\n",
    "        # when we feed in the first character, hidden state is zero\n",
    "        return torch.zeros(1, self.hidden_size)"
   ]
  },
  {
   "cell_type": "code",
   "execution_count": 69,
   "metadata": {},
   "outputs": [
    {
     "data": {
      "text/plain": [
       "57"
      ]
     },
     "execution_count": 69,
     "metadata": {},
     "output_type": "execute_result"
    }
   ],
   "source": [
    "n_letters"
   ]
  },
  {
   "cell_type": "code",
   "execution_count": 70,
   "metadata": {},
   "outputs": [],
   "source": [
    "n_hidden = 256\n",
    "\n",
    "rnn = RNN(input_size = n_letters, hidden_size = n_hidden, output_size = n_languages  )"
   ]
  },
  {
   "cell_type": "markdown",
   "metadata": {},
   "source": [
    "### Manually testing the network \n",
    "- One character at a ime"
   ]
  },
  {
   "cell_type": "code",
   "execution_count": 72,
   "metadata": {},
   "outputs": [
    {
     "name": "stdout",
     "output_type": "stream",
     "text": [
      "output size = torch.Size([1, 18])\n",
      "next_hidden size = torch.Size([1, 256])\n"
     ]
    }
   ],
   "source": [
    "# convert to oe-hot encoded form\n",
    "inp = letterToTensor('C')\n",
    "\n",
    "# initialize hidden state, no previous hidden state so all zeros\n",
    "hidden = torch.zeros(1, n_hidden)\n",
    "\n",
    "# hidden is the previous hidden state\n",
    "# next_hidden is the next hidden state\n",
    "output, next_hidden = rnn(inp, hidden)\n",
    "\n",
    "print('output size =', output.size())\n",
    "print('next_hidden size =', next_hidden.size())"
   ]
  },
  {
   "cell_type": "markdown",
   "metadata": {},
   "source": [
    "we can see the output is a < 1 x n_categories >"
   ]
  },
  {
   "cell_type": "code",
   "execution_count": 74,
   "metadata": {},
   "outputs": [],
   "source": [
    "inp = nameToTensor('Charron')\n",
    "\n",
    "hidden = torch.zeros(1, n_hidden)\n",
    "\n",
    "output, next_hidden = rnn(inp[0], hidden)"
   ]
  },
  {
   "cell_type": "code",
   "execution_count": 75,
   "metadata": {},
   "outputs": [
    {
     "name": "stdout",
     "output_type": "stream",
     "text": [
      "tensor([[-2.9503, -2.9375, -2.8164, -2.9195, -2.8502, -2.9481, -2.9378, -2.8807,\n",
      "         -2.9158, -2.8572, -2.9056, -2.8727, -2.8651, -2.8908, -2.9754, -2.8465,\n",
      "         -2.9009, -2.7783]], grad_fn=<LogSoftmaxBackward>)\n"
     ]
    }
   ],
   "source": [
    "print(output)"
   ]
  },
  {
   "cell_type": "code",
   "execution_count": 108,
   "metadata": {},
   "outputs": [
    {
     "name": "stdout",
     "output_type": "stream",
     "text": [
      "tensor([[-0.0460,  0.0001,  0.0199,  0.0120, -0.0108,  0.0264, -0.0025,  0.0840,\n",
      "          0.0578,  0.0481, -0.0841, -0.0279, -0.0607, -0.0228,  0.0506,  0.0262,\n",
      "          0.0307,  0.0785,  0.0396,  0.0019,  0.0524,  0.0039, -0.0044, -0.0992,\n",
      "          0.0384,  0.0863, -0.0095, -0.0299,  0.0898,  0.0107,  0.0447, -0.0552,\n",
      "         -0.0270, -0.0288, -0.0802,  0.0136,  0.0089,  0.0488, -0.0442, -0.0615,\n",
      "         -0.0090, -0.0308, -0.0509,  0.0606, -0.1017, -0.0037, -0.0155, -0.0220,\n",
      "         -0.0805, -0.0056,  0.0604, -0.0678,  0.0770,  0.0403,  0.0572,  0.0000,\n",
      "          0.0956,  0.0672,  0.0059, -0.0413, -0.0189, -0.0105,  0.0015, -0.1103,\n",
      "         -0.0397, -0.0075, -0.0595, -0.0448, -0.0556, -0.0476,  0.0318, -0.0724,\n",
      "         -0.0046, -0.0015, -0.0459,  0.0496,  0.0539,  0.0351, -0.0775, -0.0371,\n",
      "          0.1074,  0.0910, -0.0803, -0.0086,  0.0618,  0.0257, -0.0180, -0.0290,\n",
      "         -0.0665,  0.0225, -0.0192,  0.0066, -0.0031,  0.0217,  0.0353, -0.0436,\n",
      "          0.0716, -0.0304, -0.0146, -0.0414, -0.0599, -0.0171,  0.0071,  0.0625,\n",
      "          0.0705,  0.0693, -0.0365, -0.0056, -0.0093,  0.0206,  0.0520,  0.0920,\n",
      "          0.0901,  0.0245, -0.0452, -0.0424,  0.0619, -0.0140, -0.0390, -0.0019,\n",
      "         -0.0509, -0.1089, -0.0228,  0.0956,  0.0080, -0.0076, -0.0081,  0.0572,\n",
      "         -0.0043,  0.0151,  0.0605,  0.0394,  0.0393, -0.0192,  0.0974, -0.0101,\n",
      "         -0.0193,  0.0033, -0.0550, -0.0136,  0.0091,  0.0346, -0.0736,  0.0169,\n",
      "         -0.0577, -0.0240, -0.0114,  0.0253,  0.0709, -0.0293,  0.0871, -0.0438,\n",
      "         -0.0923, -0.0328,  0.0729,  0.0649, -0.0446,  0.0634,  0.0141, -0.0768,\n",
      "         -0.0544, -0.0750, -0.1011,  0.0553,  0.0078, -0.0218, -0.0884, -0.0645,\n",
      "          0.0109,  0.0608,  0.0101,  0.0764,  0.0405, -0.0419,  0.0040, -0.0357,\n",
      "          0.0157,  0.0458,  0.0084, -0.0942,  0.0461,  0.0232, -0.0469,  0.0116,\n",
      "          0.0132,  0.0623,  0.0011, -0.0316, -0.0233, -0.0106,  0.0170, -0.0985,\n",
      "         -0.0378,  0.0383,  0.0106, -0.0111, -0.0137, -0.0308,  0.0145,  0.0471,\n",
      "         -0.0882,  0.0355,  0.0127,  0.0581,  0.0534,  0.0162, -0.0178,  0.0451,\n",
      "          0.0235,  0.0139,  0.0422, -0.0500,  0.0103, -0.0756,  0.0573, -0.0698,\n",
      "         -0.0577, -0.0386, -0.0617, -0.0245,  0.0555, -0.0160, -0.0311, -0.0095,\n",
      "          0.0067,  0.0170,  0.0293,  0.0111,  0.0532, -0.0479,  0.0892, -0.0053,\n",
      "          0.0732,  0.0023,  0.0756, -0.0694, -0.0114,  0.0212,  0.0178, -0.0697,\n",
      "         -0.0594, -0.0082,  0.0521, -0.0551, -0.0504,  0.0718,  0.0211,  0.0346,\n",
      "         -0.0174,  0.0799,  0.0121,  0.0806,  0.0246,  0.0200, -0.0684, -0.0010]],\n",
      "       grad_fn=<ThAddmmBackward>)\n"
     ]
    }
   ],
   "source": [
    "print(next_hidden)"
   ]
  },
  {
   "cell_type": "markdown",
   "metadata": {},
   "source": [
    "### Preparing for Training\n",
    "- Define a function so that we can give a name to the model instead of characters"
   ]
  },
  {
   "cell_type": "markdown",
   "metadata": {},
   "source": [
    "We  make a few helper functions  the first one is to interpret the output of the network, which we know to be a likelihood of each language. We can use Tensor.topk to get the index of the greatest value"
   ]
  },
  {
   "cell_type": "code",
   "execution_count": 78,
   "metadata": {},
   "outputs": [],
   "source": [
    "# Take the ouptut from RNN and finds the class the output belongs to\n",
    "def languageFromOutput(output):\n",
    "    \n",
    "    # finds the index of highest probability value from the ouput\n",
    "    _, top_i = output.topk(1)\n",
    "    print(top_i)\n",
    "    \n",
    "    # finds the index corresponding to the predicted language\n",
    "    language_i = top_i[0].item()\n",
    "    print(language_i)\n",
    "    \n",
    "    return all_languages[language_i], language_i"
   ]
  },
  {
   "cell_type": "code",
   "execution_count": 79,
   "metadata": {},
   "outputs": [
    {
     "name": "stdout",
     "output_type": "stream",
     "text": [
      "tensor([[17]])\n",
      "17\n",
      "('Vietnamese', 17)\n"
     ]
    }
   ],
   "source": [
    "print(languageFromOutput(output))"
   ]
  },
  {
   "cell_type": "markdown",
   "metadata": {},
   "source": [
    "We will also want a quick way to get a training example (a name and its language)"
   ]
  },
  {
   "cell_type": "code",
   "execution_count": 89,
   "metadata": {},
   "outputs": [],
   "source": [
    "import random\n",
    "\n",
    "def randomTrainingExample():\n",
    "    \n",
    "    #find a random language\n",
    "    random_language_index = random.randint(0, n_languages - 1)\n",
    "    language = all_languages[random_language_index]\n",
    "    \n",
    "    # find all names for the randomly selected language\n",
    "    random_language_names = language_names[language]\n",
    "    \n",
    "    # select one of these names at random\n",
    "    name = random_language_names[random.randint(0, len(random_language_names) - 1)]\n",
    "    \n",
    "    # convert language and the name into a tensor format\n",
    "    language_tensor = torch.tensor([all_languages.index(language)], dtype=torch.long)\n",
    "    name_tensor = nameToTensor(name) # one-hot encoding characters in the name\n",
    "    \n",
    "    return language, name, language_tensor, name_tensor"
   ]
  },
  {
   "cell_type": "code",
   "execution_count": 90,
   "metadata": {},
   "outputs": [
    {
     "data": {
      "text/plain": [
       "0"
      ]
     },
     "execution_count": 90,
     "metadata": {},
     "output_type": "execute_result"
    }
   ],
   "source": [
    "all_languages.index('Arabic')"
   ]
  },
  {
   "cell_type": "code",
   "execution_count": 101,
   "metadata": {},
   "outputs": [
    {
     "name": "stdout",
     "output_type": "stream",
     "text": [
      "language = French , name = Favager\n",
      "language = Arabic , name = Shammas\n",
      "language = English , name = Kram\n",
      "language = Arabic , name = Koury\n",
      "language = English , name = Easen\n",
      "language = French , name = Page\n",
      "language = Italian , name = Panzavecchia\n",
      "language = Dutch , name = Amersvoort\n",
      "language = Korean , name = Ryoo\n",
      "language = Scottish , name = Milne\n",
      "\n",
      "last name and language:\n",
      " language_tensor tensor([15]) \n",
      " name_tensor tensor([[[0., 0., 0., 0., 0., 0., 0., 0., 0., 0., 0., 0., 0., 0., 0., 0., 0.,\n",
      "          0., 0., 0., 0., 0., 0., 0., 0., 0., 0., 0., 0., 0., 0., 0., 0., 0.,\n",
      "          0., 0., 0., 0., 1., 0., 0., 0., 0., 0., 0., 0., 0., 0., 0., 0., 0.,\n",
      "          0., 0., 0., 0., 0., 0.]],\n",
      "\n",
      "        [[0., 0., 0., 0., 0., 0., 0., 0., 1., 0., 0., 0., 0., 0., 0., 0., 0.,\n",
      "          0., 0., 0., 0., 0., 0., 0., 0., 0., 0., 0., 0., 0., 0., 0., 0., 0.,\n",
      "          0., 0., 0., 0., 0., 0., 0., 0., 0., 0., 0., 0., 0., 0., 0., 0., 0.,\n",
      "          0., 0., 0., 0., 0., 0.]],\n",
      "\n",
      "        [[0., 0., 0., 0., 0., 0., 0., 0., 0., 0., 0., 1., 0., 0., 0., 0., 0.,\n",
      "          0., 0., 0., 0., 0., 0., 0., 0., 0., 0., 0., 0., 0., 0., 0., 0., 0.,\n",
      "          0., 0., 0., 0., 0., 0., 0., 0., 0., 0., 0., 0., 0., 0., 0., 0., 0.,\n",
      "          0., 0., 0., 0., 0., 0.]],\n",
      "\n",
      "        [[0., 0., 0., 0., 0., 0., 0., 0., 0., 0., 0., 0., 0., 1., 0., 0., 0.,\n",
      "          0., 0., 0., 0., 0., 0., 0., 0., 0., 0., 0., 0., 0., 0., 0., 0., 0.,\n",
      "          0., 0., 0., 0., 0., 0., 0., 0., 0., 0., 0., 0., 0., 0., 0., 0., 0.,\n",
      "          0., 0., 0., 0., 0., 0.]],\n",
      "\n",
      "        [[0., 0., 0., 0., 1., 0., 0., 0., 0., 0., 0., 0., 0., 0., 0., 0., 0.,\n",
      "          0., 0., 0., 0., 0., 0., 0., 0., 0., 0., 0., 0., 0., 0., 0., 0., 0.,\n",
      "          0., 0., 0., 0., 0., 0., 0., 0., 0., 0., 0., 0., 0., 0., 0., 0., 0.,\n",
      "          0., 0., 0., 0., 0., 0.]]])\n"
     ]
    }
   ],
   "source": [
    "for i in range(10):\n",
    "    language, name, language_tensor, name_tensor = randomTrainingExample()\n",
    "    \n",
    "    print('language =', language, ', name =', name)\n",
    "    if i==9:\n",
    "        print()\n",
    "        print(\"last name and language:\") \n",
    "        print(\" language_tensor\", language_tensor, \"\\n name_tensor\", name_tensor )"
   ]
  },
  {
   "cell_type": "markdown",
   "metadata": {},
   "source": [
    "#### Training the Network"
   ]
  },
  {
   "cell_type": "code",
   "execution_count": 102,
   "metadata": {},
   "outputs": [],
   "source": [
    "criterion = nn.NLLLoss() # NLLLoss() works with softmax\n",
    "learning_rate = 0.005 "
   ]
  },
  {
   "cell_type": "markdown",
   "metadata": {},
   "source": [
    "Each loop of training will:\n",
    "\n",
    "- Create input and target tensors\n",
    "- Create a zeroed initial hidden state\n",
    "- Read each letter in and\n",
    "- Keep hidden state for next letter\n",
    "- Compare final output to target\n",
    "- Back-propagate\n",
    "- Return the output and loss"
   ]
  },
  {
   "cell_type": "code",
   "execution_count": 105,
   "metadata": {},
   "outputs": [],
   "source": [
    "def train(langauge_tensor, name_tensor):\n",
    "    \n",
    "    # set initial hidden state to 0\n",
    "    hidden = rnn.initHidden()\n",
    "\n",
    "    rnn.zero_grad()\n",
    "\n",
    "    for i in range(name_tensor.size()[0]): # iterate through all the characters in input name\n",
    "        # name_tensor.size()[0] is the number of character in the name\n",
    "        \n",
    "        # we pass every character with its previous state to the RNN\n",
    "        output, hidden = rnn(name_tensor[i], hidden)\n",
    "        # output and hidden state for the current input\n",
    "    \n",
    "    # after the for loop, output is the final output of the RNN\n",
    "    loss = criterion(output, langauge_tensor)\n",
    "    loss.backward()\n",
    "    \n",
    "    # updating the parameters manually instead of using an optimzer\n",
    "    for p in rnn.parameters():\n",
    "        p.data.add_(-learning_rate, p.grad.data)\n",
    "\n",
    "    return output, loss.item()"
   ]
  },
  {
   "cell_type": "markdown",
   "metadata": {},
   "source": [
    "Now we just have to run that with a bunch of examples. Since the train function returns both the output and loss we can print its guesses and also keep track of loss for plotting. Since there are 1000s of examples we print only every print_every examples, and take an average of the loss."
   ]
  },
  {
   "cell_type": "code",
   "execution_count": 106,
   "metadata": {},
   "outputs": [],
   "source": [
    "n_iters = 200000\n",
    "\n",
    "current_loss = 0\n",
    "all_losses = []"
   ]
  },
  {
   "cell_type": "markdown",
   "metadata": {},
   "source": [
    "- Get a random training input and target\n",
    "- Print iter number, loss, name and guess\n",
    "- Add current loss avg to list of losses"
   ]
  },
  {
   "cell_type": "code",
   "execution_count": 107,
   "metadata": {},
   "outputs": [
    {
     "name": "stderr",
     "output_type": "stream",
     "text": [
      "..\\torch\\csrc\\utils\\python_arg_parser.cpp:756: UserWarning: This overload of add_ is deprecated:\n",
      "\tadd_(Number alpha, Tensor other)\n",
      "Consider using one of the following signatures instead:\n",
      "\tadd_(Tensor other, *, Number alpha)\n"
     ]
    },
    {
     "name": "stdout",
     "output_type": "stream",
     "text": [
      "tensor([[1]])\n",
      "1\n",
      "5000 2% 1.7601 Thai / Chinese ✗ (Vietnamese)\n",
      "tensor([[3]])\n",
      "3\n",
      "10000 5% 2.1794 Esteves / Dutch ✗ (Portuguese)\n",
      "tensor([[14]])\n",
      "14\n",
      "15000 7% 2.1643 Kremlicka / Russian ✗ (Czech)\n",
      "tensor([[5]])\n",
      "5\n",
      "20000 10% 2.7820 Kruse / French ✗ (German)\n",
      "tensor([[17]])\n",
      "17\n",
      "25000 12% 2.0035 Chung / Vietnamese ✗ (Korean)\n",
      "tensor([[10]])\n",
      "10\n",
      "30000 15% 2.0303 Touma / Japanese ✗ (Arabic)\n",
      "tensor([[6]])\n",
      "6\n",
      "35000 17% 2.1135 French / German ✗ (English)\n",
      "tensor([[1]])\n",
      "1\n",
      "40000 20% 1.6145 Chau / Chinese ✗ (Vietnamese)\n",
      "tensor([[17]])\n",
      "17\n",
      "45000 22% 0.6855 Ta / Vietnamese ✓\n",
      "tensor([[16]])\n",
      "16\n",
      "50000 25% 2.1821 Bonnet / Spanish ✗ (French)\n",
      "tensor([[5]])\n",
      "5\n",
      "55000 27% 1.9492 Pugliese / French ✗ (Italian)\n",
      "tensor([[8]])\n",
      "8\n",
      "60000 30% 2.6670 Nadvornizch / Irish ✗ (Czech)\n",
      "tensor([[10]])\n",
      "10\n",
      "65000 32% 1.1410 Wakai / Japanese ✓\n",
      "tensor([[7]])\n",
      "7\n",
      "70000 35% 0.6114 Telis / Greek ✓\n",
      "tensor([[5]])\n",
      "5\n",
      "75000 37% 1.9477 Vogt / French ✗ (German)\n",
      "tensor([[0]])\n",
      "0\n",
      "80000 40% 1.2784 Mansour / Arabic ✓\n",
      "tensor([[5]])\n",
      "5\n",
      "85000 42% 5.1771 Benetton / French ✗ (Italian)\n",
      "tensor([[6]])\n",
      "6\n",
      "90000 45% 5.3942 Mencher / German ✗ (Polish)\n",
      "tensor([[13]])\n",
      "13\n",
      "95000 47% 0.3861 Silveira / Portuguese ✓\n",
      "tensor([[11]])\n",
      "11\n",
      "100000 50% 1.3946 Hou / Korean ✗ (Chinese)\n",
      "tensor([[14]])\n",
      "14\n",
      "105000 52% 0.0380 Timonov / Russian ✓\n",
      "tensor([[1]])\n",
      "1\n",
      "110000 55% 0.9336 Lac / Chinese ✗ (Vietnamese)\n",
      "tensor([[0]])\n",
      "0\n",
      "115000 57% 0.1078 Bishara / Arabic ✓\n",
      "tensor([[16]])\n",
      "16\n",
      "120000 60% 2.1961 Santana / Spanish ✗ (Portuguese)\n",
      "tensor([[5]])\n",
      "5\n",
      "125000 62% 1.1742 Ritchie / French ✗ (Scottish)\n",
      "tensor([[15]])\n",
      "15\n",
      "130000 65% 1.3193 Sinclair / Scottish ✓\n",
      "tensor([[17]])\n",
      "17\n",
      "135000 67% 0.1195 Quyen / Vietnamese ✓\n",
      "tensor([[14]])\n",
      "14\n",
      "140000 70% 0.0058 Uzhinov / Russian ✓\n",
      "tensor([[14]])\n",
      "14\n",
      "145000 72% 0.3058 Handjaevsky / Russian ✓\n",
      "tensor([[9]])\n",
      "9\n",
      "150000 75% 0.1630 Boveri / Italian ✓\n",
      "tensor([[5]])\n",
      "5\n",
      "155000 77% 4.2450 Persein / French ✗ (Czech)\n",
      "tensor([[2]])\n",
      "2\n",
      "160000 80% 2.2666 Becke / Czech ✗ (German)\n",
      "tensor([[6]])\n",
      "6\n",
      "165000 82% 0.3740 Zellweger / German ✓\n",
      "tensor([[15]])\n",
      "15\n",
      "170000 85% 1.7346 Mckee / Scottish ✗ (English)\n",
      "tensor([[17]])\n",
      "17\n",
      "175000 87% 1.0046 Kui / Vietnamese ✗ (Chinese)\n",
      "tensor([[8]])\n",
      "8\n",
      "180000 90% 0.4036 Conchobhar / Irish ✓\n",
      "tensor([[6]])\n",
      "6\n",
      "185000 92% 0.7161 Zimmermann / German ✓\n",
      "tensor([[7]])\n",
      "7\n",
      "190000 95% 0.0548 Antipas / Greek ✓\n",
      "tensor([[6]])\n",
      "6\n",
      "195000 97% 1.8215 Snyder / German ✗ (Dutch)\n",
      "tensor([[11]])\n",
      "11\n",
      "200000 100% 3.2293 Chung / Korean ✗ (Vietnamese)\n"
     ]
    }
   ],
   "source": [
    "for epoch in range(1, n_iters + 1):\n",
    "    \n",
    "    language, name, language_tensor, name_tensor = randomTrainingExample()\n",
    "    \n",
    "    output, loss = train(language_tensor, name_tensor)\n",
    "    current_loss += loss\n",
    "\n",
    "    if epoch % 5000 == 0:\n",
    "        guess, guess_i = languageFromOutput(output)\n",
    "        correct = '✓' if guess == language else '✗ (%s)' % language\n",
    "        \n",
    "        print('%d %d%% %.4f %s / %s %s' % (epoch, \n",
    "                                           epoch / n_iters * 100,\n",
    "                                           loss,\n",
    "                                           name, \n",
    "                                           guess, \n",
    "                                           correct))\n",
    "\n",
    "    if epoch % 1000 == 0:\n",
    "        all_losses.append(current_loss / 1000)\n",
    "        current_loss = 0"
   ]
  },
  {
   "cell_type": "code",
   "execution_count": 126,
   "metadata": {},
   "outputs": [
    {
     "data": {
      "image/png": "[encoded data removed]",
      "text/plain": [
       "<Figure size 720x576 with 1 Axes>"
      ]
     },
     "metadata": {},
     "output_type": "display_data"
    }
   ],
   "source": [
    "import matplotlib.pyplot as plt\n",
    "plt.style.use('dark_background')\n",
    "\n",
    "plt.figure(figsize=(10, 8))\n",
    "plt.plot(all_losses)\n",
    "plt.show()"
   ]
  },
  {
   "cell_type": "markdown",
   "metadata": {},
   "source": [
    "### Running on User Input"
   ]
  },
  {
   "cell_type": "code",
   "execution_count": 110,
   "metadata": {},
   "outputs": [],
   "source": [
    "n_predictions = 3 # we want to see 3 top predictions"
   ]
  },
  {
   "cell_type": "code",
   "execution_count": 111,
   "metadata": {},
   "outputs": [],
   "source": [
    "input_name = 'Batsakis' #Re-run for 'Amaya' and 'Bukoski'"
   ]
  },
  {
   "cell_type": "code",
   "execution_count": 123,
   "metadata": {},
   "outputs": [],
   "source": [
    "names = ['Mahmoud' ,'Ayin' , 'Soori', 'Behnam', 'Vienna', 'Tina']"
   ]
  },
  {
   "cell_type": "code",
   "execution_count": 124,
   "metadata": {},
   "outputs": [
    {
     "name": "stdout",
     "output_type": "stream",
     "text": [
      "\n",
      "Mahmoud (-0.11) Arabic\n",
      "Mahmoud (-3.36) Irish\n",
      "Mahmoud (-4.08) Japanese\n",
      "\n",
      "Ayin (-0.71) Irish\n",
      "Ayin (-1.19) Russian\n",
      "Ayin (-2.81) French\n",
      "\n",
      "Soori (-0.46) Italian\n",
      "Soori (-2.22) Japanese\n",
      "Soori (-2.37) Arabic\n",
      "\n",
      "Behnam (-1.45) Arabic\n",
      "Behnam (-1.59) English\n",
      "Behnam (-1.89) German\n",
      "\n",
      "Vienna (-1.11) Spanish\n",
      "Vienna (-1.42) Italian\n",
      "Vienna (-1.79) Czech\n",
      "\n",
      "Tina (-0.05) Vietnamese\n",
      "Tina (-3.12) Chinese\n",
      "Tina (-6.08) Japanese\n"
     ]
    }
   ],
   "source": [
    "for input_name in names:\n",
    "    print()\n",
    "    with torch.no_grad():\n",
    "\n",
    "            name_tensor = nameToTensor(input_name)\n",
    "\n",
    "            hidden = rnn.initHidden()\n",
    "            for i in range(name_tensor.size()[0]):\n",
    "                output, hidden = rnn(name_tensor[i], hidden)\n",
    "\n",
    "            topv, topi = output.topk(n_predictions, 1, True)\n",
    "\n",
    "            for i in range(n_predictions):\n",
    "\n",
    "                value = topv[0][i].item()\n",
    "                language_index = topi[0][i].item()\n",
    "\n",
    "                print(input_name, '(%.2f) %s' % (value, all_languages[language_index]))\n",
    "                "
   ]
  },
  {
   "cell_type": "code",
   "execution_count": null,
   "metadata": {},
   "outputs": [],
   "source": []
  }
 ],
 "metadata": {
  "kernelspec": {
   "display_name": "Python 3",
   "language": "python",
   "name": "python3"
  },
  "language_info": {
   "codemirror_mode": {
    "name": "ipython",
    "version": 3
   },
   "file_extension": ".py",
   "mimetype": "text/x-python",
   "name": "python",
   "nbconvert_exporter": "python",
   "pygments_lexer": "ipython3",
   "version": "3.7.4"
  }
 },
 "nbformat": 4,
 "nbformat_minor": 2
}
